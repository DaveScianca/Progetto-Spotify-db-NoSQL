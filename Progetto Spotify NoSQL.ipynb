{
 "cells": [
  {
   "cell_type": "markdown",
   "id": "fe6e38d2-a1a9-420c-ae0d-2012b09697e2",
   "metadata": {},
   "source": [
    "# Progetto NoSQL - Spotify\n",
    "## Balducci Diego, Chiappella Alessandro, Panni Matteo, Scianca Davide"
   ]
  },
  {
   "cell_type": "markdown",
   "id": "35480003-80b1-4f9b-b9ce-c2f492dba9fe",
   "metadata": {},
   "source": [
    "## Librerie"
   ]
  },
  {
   "cell_type": "code",
   "execution_count": 1,
   "id": "210f92dc-9301-4601-b464-b068afca339d",
   "metadata": {},
   "outputs": [],
   "source": [
    "import requests\n",
    "import base64\n",
    "\n",
    "import json\n",
    "from bson import json_util, ObjectId\n",
    "\n",
    "import spotipy\n",
    "from spotipy.oauth2 import SpotifyClientCredentials\n",
    "\n",
    "import pprint as pp\n",
    "\n",
    "import pandas as pd\n",
    "import numpy as np\n",
    "\n",
    "import pymongo\n",
    "import dns\n",
    "from pymongo import MongoClient \n",
    "\n",
    "from neo4j import GraphDatabase\n",
    "\n",
    "import os"
   ]
  },
  {
   "cell_type": "code",
   "execution_count": 2,
   "id": "13bd1451-fdfe-4293-82f6-369f49d65515",
   "metadata": {},
   "outputs": [],
   "source": [
    "import warnings\n",
    "warnings.filterwarnings('ignore')"
   ]
  },
  {
   "cell_type": "markdown",
   "id": "a0f5e6f4-2935-431e-8622-1e24decd4ffd",
   "metadata": {},
   "source": [
    "## Autorizzazioni per funzioni"
   ]
  },
  {
   "cell_type": "code",
   "execution_count": 3,
   "id": "42297954-0acf-46ef-88fa-695229aebfaf",
   "metadata": {},
   "outputs": [],
   "source": [
    "# Authorization \n",
    "authUrl = \"https://accounts.spotify.com/api/token\"\n",
    "authHeaders = {}\n",
    "authData = {}"
   ]
  },
  {
   "cell_type": "code",
   "execution_count": 1,
   "id": "7f02d86e-4ef1-4d4f-86c9-ae1dc4e24d83",
   "metadata": {},
   "outputs": [],
   "source": [
    "clientID = \"clientID\"\n",
    "clientSecret = \"clientSecret\""
   ]
  },
  {
   "cell_type": "markdown",
   "id": "f83e4040-06c3-412c-80ef-c826985f9ed2",
   "metadata": {},
   "source": [
    "## Token"
   ]
  },
  {
   "cell_type": "markdown",
   "id": "43ab365f-d984-4697-8b04-f4c507caf5ee",
   "metadata": {},
   "source": [
    "`getAccessTokne` è una funzione che utilizziamo per aver il permesso di scaricare i dati attarverso un `token`"
   ]
  },
  {
   "cell_type": "code",
   "execution_count": 5,
   "id": "dce4145f-b97d-4277-ba8f-daafac82a98c",
   "metadata": {},
   "outputs": [],
   "source": [
    "def getAccessToken(clientID, clientSecret):\n",
    "    message = f\"{clientID}:{clientSecret}\"\n",
    "    messageBytes = message.encode('ascii')\n",
    "    base64Bytes = base64.b64encode(messageBytes)\n",
    "    base64Message = base64Bytes.decode('ascii')\n",
    "\n",
    "    authHeaders['Authorization'] = f\"Basic {base64Message}\"\n",
    "    authData['grant_type'] = \"client_credentials\"\n",
    "    \n",
    "    res = requests.post(authUrl, headers=authHeaders, data=authData)\n",
    "\n",
    "    responseObject = res.json()\n",
    "    \n",
    "    accessToken = responseObject['access_token']\n",
    "    \n",
    "    print(accessToken)\n",
    "    \n",
    "    return accessToken"
   ]
  },
  {
   "cell_type": "code",
   "execution_count": 6,
   "id": "96d46581-3fef-4d76-b8f0-6f188b4f0239",
   "metadata": {},
   "outputs": [
    {
     "name": "stdout",
     "output_type": "stream",
     "text": [
      "BQD5fyhX9Rr9_F_UPsPauiDDh3bzR7NS08UKKEkTzbr6lEdJkBFcnWKehaCS_a-_C16jfnYey89MC8fHnzIn-1QXRoUsImtq16HwJGVgj4bn_ugPl0w\n"
     ]
    }
   ],
   "source": [
    "token = getAccessToken(clientID, clientSecret)"
   ]
  },
  {
   "cell_type": "markdown",
   "id": "3c9ffcfd-ed2a-4a65-8dd5-14aad3e49a9e",
   "metadata": {
    "tags": []
   },
   "source": [
    "## Autenticazione credenziali Spotipy"
   ]
  },
  {
   "cell_type": "markdown",
   "id": "ac34fdfb-21d2-424a-8cb4-76afcfc856bf",
   "metadata": {},
   "source": [
    "Con il `clientID` e il `clientSecret` eseguiamo l'autenticazione alla libreria di `spotipy`"
   ]
  },
  {
   "cell_type": "code",
   "execution_count": 7,
   "id": "761f4280-4b11-4460-b058-2ba636c15525",
   "metadata": {},
   "outputs": [],
   "source": [
    "client_credentials_manager = SpotifyClientCredentials(client_id=clientID, \n",
    "                                                      client_secret=clientSecret)\n",
    "\n",
    "sp = spotipy.Spotify(client_credentials_manager=client_credentials_manager)"
   ]
  },
  {
   "cell_type": "markdown",
   "id": "50e4016a-310b-4157-aad9-32eff38e58d6",
   "metadata": {},
   "source": [
    "## Link"
   ]
  },
  {
   "cell_type": "markdown",
   "id": "0e1c5576-c583-41ba-9d53-a87ce8b4ac68",
   "metadata": {},
   "source": [
    "`userLink` è una lista in cui inseriamo i link del profilo degli utenti"
   ]
  },
  {
   "cell_type": "code",
   "execution_count": 8,
   "id": "97763de1-7a2d-4724-a4e5-0f00e1f85c60",
   "metadata": {},
   "outputs": [],
   "source": [
    "userLink = [\n",
    "    \"https://open.spotify.com/user/gig1g5ugxxaprg5037v9s4e85?si=e05abb520be34654\", # dave\n",
    "    \"https://open.spotify.com/user/s0llvygqb9553uvo8rh958ws8?si=a5dd3f37785a4b20\", # diego\n",
    "    \"https://open.spotify.com/user/11126184093?si=01977197ccbf4e99\", # teo\n",
    "    \"https://open.spotify.com/user/11147069621?si=EyE5ewVORWK6eNgXv6CxHw&utm\", # ale\n",
    "    \"https://open.spotify.com/user/bea.passarino?si=RH1LQEW2QjSXp7fvcL6-rQ\", # pandarino\n",
    "    \"https://open.spotify.com/user/no967zpi2pfq2zcwo3veh6y74?si=p0TaW7gQRn6_BBOCu4Hqkg\", # chiara\n",
    "    \"https://open.spotify.com/user/31dafcka6zlofk7ltol5vr64nsgq?si=nziWAsN9QAGF6hyYbo5TUQ\", # martol\n",
    "    \"https://open.spotify.com/user/21gljyydsnva2lf5m7zb4dyzi?si=73HfwnrVRI2mACWG9uD3Dw\", # svngvlli\n",
    "    \"https://open.spotify.com/user/d8zrizl2vgb7bqwdhfgj2e9oh?si=6gBjjmsXQsGEkJg2O8ZTlA\", # ousssssama\n",
    "    \"https://open.spotify.com/user/gamev3awajc0w7zm3un6oi7im?si=85a64cfebab44568\", # Mehjibi\n",
    "    \"https://open.spotify.com/user/8an8d54s7xaucp6rhyvdm9odt?si=6f482c023c3b4e53\", # pietro\n",
    "    \"https://open.spotify.com/user/ztvdly5rcltcv43e6gysceb2i?si=bycNzs0zSPWxy3VQ3q0oLg\", # mattia\n",
    "    \"https://open.spotify.com/user/1186033663?si=e4a60ac0a27e4471\", # Riccardo\n",
    "    \"https://open.spotify.com/user/nicholas.apuzzo1998?si=3943dd11fb4542e7\", # Nicho\n",
    "    \"https://open.spotify.com/user/40typl19xf8hu1qq5nm7eiq6o?si=pF_5JuiUTE2wbG5M5WyHNw\", # Ale Galli\n",
    "    \"https://open.spotify.com/user/l6r6ydnvf8hl1djc2aczqzu8f?si=P7oo7l9ETnCuK8arweFbDw\", # Manuello\n",
    "    \"https://open.spotify.com/user/camicere?si=3IsttLanTHy-NhB2jDgwNg\", # Cam\n",
    "    \"https://open.spotify.com/user/fossabmx?si=TFaQJjkSRN-UmosTQJI6GQ\", # Fossa\n",
    "    \"https://open.spotify.com/user/davofuga?si=PTYVyRAlQ7GjDvlVtTiSQw\", # Fughi\n",
    "    \"https://open.spotify.com/user/qhokpua1c15zyulkxf5yul0xa?si=PDkmJyyiTI2izEw0UpL8OA\", # Anto\n",
    "    \"https://open.spotify.com/user/iw05lofaizn72mk59xuiteuae?si=1b1327486a694801\", # Christian\n",
    "    \"https://open.spotify.com/user/elvica2000?si=xC09wL98TreKSITUJw8dTQ\", # Thomas\n",
    "    \"https://open.spotify.com/user/maudevaglio?si=SQ9SxaekQkqO3tQbmtRPmA\", # maude\n",
    "    \"https://open.spotify.com/user/matipelle?si=D3Q5p4XfQ-GDshX8KxUFZwSi\",  #matipelle\n",
    "    \"https://open.spotify.com/user/31udo6usr5a2v3pfyql5d6phwygi?si=zoKwKC1-STiKcwn_thZkFg\", # Naginni97\n",
    "]"
   ]
  },
  {
   "cell_type": "markdown",
   "id": "bc54cc7f-3935-4ba5-8319-33081210b0c7",
   "metadata": {},
   "source": [
    "`playlistLink` è una lista in cui inseriamo i link delle playlist dei Wrapped degli utenti"
   ]
  },
  {
   "cell_type": "code",
   "execution_count": 9,
   "id": "e6a0956f-a4bc-4533-b73c-f8085b15652a",
   "metadata": {},
   "outputs": [],
   "source": [
    "playlistLink = [\n",
    "    \"https://open.spotify.com/playlist/5nfEnGujoYbIQwr3obusal?si=d91fbfbd170c40a2\", # dave\n",
    "    \"https://open.spotify.com/playlist/1tBCOopkPhMy2qB4SPwsI2?si=6946af44fe05434b\", # diego\n",
    "    \"https://open.spotify.com/playlist/3iHcsXyCmeaacp7nZo97kF?si=b02db0aa9f7c4599\", # teo\n",
    "    \"https://open.spotify.com/playlist/1nkYSv9Crr6dNcktRGIyFn?si=ouROozJsSu6BjAS4DOH-KQ\", # ale\n",
    "    \"https://open.spotify.com/playlist/6oqk5EJIxVO6Tj0dk9zOUx?si=-YF4tMb7QsiqAGoIK8WuJQ\", # pandarino\n",
    "    \"https://open.spotify.com/playlist/1pvRY47Ho3XoiyFrAdutKn?si=-2sly5xLQgOwArwRssTPrw\", # chiara\n",
    "    \"https://open.spotify.com/playlist/5VULiACGVkFQn0IOCyI0K1?si=SNrrCEwOSD6O59aws2bfEA\", # martol\n",
    "    \"https://open.spotify.com/playlist/1hg8YLaTgyMdrR6yl8Xuq3?si=_kf-1mGOQs6T69EDLmqAew\", # svngvlli\n",
    "    \"https://open.spotify.com/playlist/3SKtG7VKCLEb28Yt6hNIBk?si=1d893fb02ea84ce7\", # ousssssama\n",
    "    \"https://open.spotify.com/playlist/132y10d7xgZr4AbY4zFRI5?si=20e6472102b14c45\", # Mehjibi\n",
    "    \"https://open.spotify.com/playlist/442Ck0nGv4m0mgzisBVJqu?si=fc0d3b2358404ba5\", # pietro\n",
    "    \"https://open.spotify.com/playlist/41tnvEo72msXMBsv8rFwQD?si=715ec792fb8d40f9\", # mattia\n",
    "    \"https://open.spotify.com/playlist/6eoPrc7e9SCHwAELvmmm4j?si=OQtQbdqzQiWBACcp9_-MGA\", # Riccardo\n",
    "    \"https://open.spotify.com/playlist/1MimFBHM1L2Zheybj8Cm89?si=f4c5182a84104c55\", # Nicho\n",
    "    \"https://open.spotify.com/playlist/0JHkXdU9gAzwiNUbCZpEnM?si=ANWuKwJKQm-fpiyKYMBgRw\", # Ale Galli\n",
    "    \"https://open.spotify.com/playlist/5o0mcvJ4MtfHgvFBIDNnhd?si=uvyD4HoNRkOZFwxisYfJmQ\", # Manuello\n",
    "    \"https://open.spotify.com/playlist/6U2D5AMNCcAuvc0pe4YDTG?si=cx4Bu7vcSzWuJZxK1g36Eg\", # Cam\n",
    "    \"https://open.spotify.com/playlist/5zF9oZWNUkp5zUwgOtRwIG?si=CCwnDhjgQLajChl-aLXR3g\", # Fossa\n",
    "    \"https://open.spotify.com/playlist/1wFmsfFk0OVsf6GccKxtye?si=CBQselzWSlulEcrAZlM7qw\", # Fughi\n",
    "    \"https://open.spotify.com/playlist/6ypFw761SWZoe2AtDIE7El?si=b8WX0ARDTBiayURiUFk-8Q\", # Anto\n",
    "    \"https://open.spotify.com/playlist/09oiswzRqcof7Ht8uqTMDj?si=d8610fe402b9410b\", # Christian\n",
    "    \"https://open.spotify.com/playlist/13GuODVRIIRKrDYPumF5CF?si=GldmZWM7QYKLcLb8kOcdgQ\", # Thomas\n",
    "    \"https://open.spotify.com/playlist/1uUb14vhSuHrK1yEjEVKs3?si=c4bY7MygTO6_OOWL80Bugw\", # maude\n",
    "    \"https://open.spotify.com/playlist/2AXwY01SI0AEFI7tsObe7F?si=Z7XXEzV3SrCfegY8oT-D7Q&nd=1\", # matipelle\n",
    "    \"https://open.spotify.com/playlist/0tzApf6Md0ir30EKtBifN5?si=2CDBq0uFSf-7w6RlRwQpHw\", # Naginni97\n",
    "]"
   ]
  },
  {
   "cell_type": "markdown",
   "id": "b907a790-7c65-4288-ac4d-bfe68881fe1c",
   "metadata": {},
   "source": [
    "Verifica dell'omogenità dei delle lunghezze delle due liste"
   ]
  },
  {
   "cell_type": "code",
   "execution_count": 10,
   "id": "60f3ce1c-9afe-4627-8c82-88b9fdef52f3",
   "metadata": {},
   "outputs": [
    {
     "name": "stdout",
     "output_type": "stream",
     "text": [
      "userLink: 25\n",
      "playlistLink: 25\n"
     ]
    }
   ],
   "source": [
    "print(f'''userLink: {len(userLink)}\n",
    "playlistLink: {len(playlistLink)}''')"
   ]
  },
  {
   "cell_type": "markdown",
   "id": "65a9fe14-fd7a-4e03-9ace-25a96836a3cd",
   "metadata": {},
   "source": [
    "## Extract_multiple_ids"
   ]
  },
  {
   "cell_type": "markdown",
   "id": "48ba9018-9c42-49ab-8408-2cd2ca7d01b2",
   "metadata": {},
   "source": [
    "La funzione `extract_multiple_ids` permette di estrarre:\n",
    "1. playlistID\n",
    "2. playlistURI\n",
    "3. userID\n",
    "\n",
    "attraverso `split` all-interno di un ciclo `for` che legge le liste `userLink` e `playlistLink` e vengono inseriti nella lista `extracted_ids`"
   ]
  },
  {
   "cell_type": "code",
   "execution_count": 11,
   "id": "79f1a601-95c0-4789-a47f-a301ca1e252c",
   "metadata": {},
   "outputs": [],
   "source": [
    "def extract_multiple_ids(playlist_links, user_links):\n",
    "    extracted_ids = []\n",
    "    \n",
    "    for playlist_link, user_link in zip(playlist_links, user_links):\n",
    "        playlistID = playlist_link.split(\"/\")[-1]\n",
    "        playlistURI = playlist_link.split(\"/\")[-1].split(\"?\")[0]\n",
    "        userID = user_link.split(\"/\")[-1].split(\"?\")[-1].split(\"=\")[-1]\n",
    "        extracted_ids.append((userID, playlistID, playlistURI))\n",
    "        \n",
    "    return extracted_ids"
   ]
  },
  {
   "cell_type": "code",
   "execution_count": 12,
   "id": "0cd7c1b7-ca01-499b-8d34-777df48855e5",
   "metadata": {},
   "outputs": [],
   "source": [
    "extracted_ids = extract_multiple_ids(playlistLink, userLink)"
   ]
  },
  {
   "cell_type": "code",
   "execution_count": 13,
   "id": "214a19cb-c6f0-46a0-a5ba-2bfa43ebe79e",
   "metadata": {},
   "outputs": [
    {
     "data": {
      "text/plain": [
       "25"
      ]
     },
     "execution_count": 13,
     "metadata": {},
     "output_type": "execute_result"
    }
   ],
   "source": [
    "len(extracted_ids)"
   ]
  },
  {
   "cell_type": "markdown",
   "id": "153fe559-9087-43b5-a8a1-8b5fb55ef282",
   "metadata": {
    "tags": []
   },
   "source": [
    "## Get_playlist_tracks"
   ]
  },
  {
   "cell_type": "markdown",
   "id": "6164f4fb-bb90-4f66-b3b8-5add03dcec71",
   "metadata": {},
   "source": [
    "La funzione `get_playlist_tracks` estrae attraverso `sp.user_playlist_tracks()` le tracce all'interno delle playlist passate.\n",
    "\n",
    "La funzione ritorna `tracks`, una lista che contiene tutte le tracce."
   ]
  },
  {
   "cell_type": "code",
   "execution_count": 14,
   "id": "b91a1ada-3dc4-418e-82e1-433cf1205a0c",
   "metadata": {},
   "outputs": [],
   "source": [
    "def get_playlist_tracks(username,playlist_id):\n",
    "    # Utilizza l'API Web Spotify per recuperare il primo set di tracce dalla playlist specificata\n",
    "    results = sp.user_playlist_tracks(username,playlist_id)\n",
    "    # Immagazzina le tracce in una lista\n",
    "    tracks = results['items']\n",
    "    \n",
    "    # Controlla se c'è un'altra pagina di tracce\n",
    "    while results['next']:\n",
    "        # Recupera la pagina successiva di tracce\n",
    "        results = sp.next(results)\n",
    "        # Aggiungi alla la lista 'tracks' le tracce\n",
    "        tracks.extend(results['items'])\n",
    "    \n",
    "    return tracks"
   ]
  },
  {
   "cell_type": "markdown",
   "id": "44bf798e-6d64-4e73-821e-b24f3ae0522d",
   "metadata": {},
   "source": [
    "## Get_track_features"
   ]
  },
  {
   "cell_type": "markdown",
   "id": "e5b433c9-2e35-41a9-b6db-a8197ad12167",
   "metadata": {},
   "source": [
    "La funzione `get_track_features` estrae attraverso `sp.audio_features(batch)` le features (le features sono tutte le caratteristiche delle canzoni) all'interno degli id delle tracce passati.\n",
    "\n",
    "La funzione ritorna `features`, una lista che contiene tutte le features delle tracce.\n",
    "\n",
    ">La differenza tra `append` e `extend` è che:\n",
    " - \"append\" aggiunge un singolo elemento alla fine di una lista, \n",
    " - mentre \"extend\" aggiunge gli elementi di un'altra lista alla fine di una lista esistente."
   ]
  },
  {
   "cell_type": "code",
   "execution_count": 15,
   "id": "b281091f-663b-4aa6-b7dd-0805de190a3c",
   "metadata": {},
   "outputs": [],
   "source": [
    "def get_track_features(track_ids):\n",
    "    features = []\n",
    "    \n",
    "    for i in range(0, len(track_ids), 50):\n",
    "        # Ottieni un gruppo di ID di tracce dall'iterazione corrente del ciclo\n",
    "        batch = track_ids[i:i+50]\n",
    "        # Utilizzare l'API di Spotify per recuperare le caratteristiche audio per il gruppo corrente di ID di tracce\n",
    "        results = sp.audio_features(batch)\n",
    "        # Aggiungi alla la lista 'features' le caratteristiche audio dal gruppo corrente\n",
    "        features.extend(results)     \n",
    "        \n",
    "    return features"
   ]
  },
  {
   "cell_type": "markdown",
   "id": "595f76e0-0e2c-450d-b52b-fd8edfb606f2",
   "metadata": {},
   "source": [
    "Inserimento delle tracce all'interno della lista `tracks_list` richiamando la funzione `get_playlist_tracks`.\n",
    "\n",
    "`tracks_list` è una lista che contiene liste di tutti gli utenti che a loro volta sono liste di dizionari (ogni dizionario corrisponde a una canzone con le sue generalità)"
   ]
  },
  {
   "cell_type": "code",
   "execution_count": 16,
   "id": "6d529a17-8a8c-43b9-a178-38a1aa06e542",
   "metadata": {
    "tags": []
   },
   "outputs": [
    {
     "ename": "KeyboardInterrupt",
     "evalue": "",
     "output_type": "error",
     "traceback": [
      "\u001b[1;31m---------------------------------------------------------------------------\u001b[0m",
      "\u001b[1;31mKeyboardInterrupt\u001b[0m                         Traceback (most recent call last)",
      "\u001b[1;32m~\\AppData\\Local\\Temp/ipykernel_2296/1905841200.py\u001b[0m in \u001b[0;36m<module>\u001b[1;34m\u001b[0m\n\u001b[0;32m      1\u001b[0m \u001b[0mtracks_list\u001b[0m \u001b[1;33m=\u001b[0m \u001b[1;33m[\u001b[0m\u001b[1;33m]\u001b[0m\u001b[1;33m\u001b[0m\u001b[1;33m\u001b[0m\u001b[0m\n\u001b[0;32m      2\u001b[0m \u001b[1;32mfor\u001b[0m \u001b[0muserID\u001b[0m\u001b[1;33m,\u001b[0m \u001b[0mplaylistID\u001b[0m\u001b[1;33m,\u001b[0m \u001b[0mplaylistURI\u001b[0m \u001b[1;32min\u001b[0m \u001b[0mextracted_ids\u001b[0m\u001b[1;33m:\u001b[0m\u001b[1;33m\u001b[0m\u001b[1;33m\u001b[0m\u001b[0m\n\u001b[1;32m----> 3\u001b[1;33m     \u001b[0mtracks\u001b[0m \u001b[1;33m=\u001b[0m \u001b[0mget_playlist_tracks\u001b[0m\u001b[1;33m(\u001b[0m\u001b[0muserID\u001b[0m\u001b[1;33m,\u001b[0m \u001b[0mplaylistURI\u001b[0m\u001b[1;33m)\u001b[0m\u001b[1;33m\u001b[0m\u001b[1;33m\u001b[0m\u001b[0m\n\u001b[0m\u001b[0;32m      4\u001b[0m     \u001b[0mtracks_list\u001b[0m\u001b[1;33m.\u001b[0m\u001b[0mappend\u001b[0m\u001b[1;33m(\u001b[0m\u001b[0mtracks\u001b[0m\u001b[1;33m)\u001b[0m\u001b[1;33m\u001b[0m\u001b[1;33m\u001b[0m\u001b[0m\n",
      "\u001b[1;32m~\\AppData\\Local\\Temp/ipykernel_2296/1893483087.py\u001b[0m in \u001b[0;36mget_playlist_tracks\u001b[1;34m(username, playlist_id)\u001b[0m\n\u001b[0;32m      1\u001b[0m \u001b[1;32mdef\u001b[0m \u001b[0mget_playlist_tracks\u001b[0m\u001b[1;33m(\u001b[0m\u001b[0musername\u001b[0m\u001b[1;33m,\u001b[0m\u001b[0mplaylist_id\u001b[0m\u001b[1;33m)\u001b[0m\u001b[1;33m:\u001b[0m\u001b[1;33m\u001b[0m\u001b[1;33m\u001b[0m\u001b[0m\n\u001b[0;32m      2\u001b[0m     \u001b[1;31m# Utilizza l'API Web Spotify per recuperare il primo set di tracce dalla playlist specificata\u001b[0m\u001b[1;33m\u001b[0m\u001b[1;33m\u001b[0m\u001b[0m\n\u001b[1;32m----> 3\u001b[1;33m     \u001b[0mresults\u001b[0m \u001b[1;33m=\u001b[0m \u001b[0msp\u001b[0m\u001b[1;33m.\u001b[0m\u001b[0muser_playlist_tracks\u001b[0m\u001b[1;33m(\u001b[0m\u001b[0musername\u001b[0m\u001b[1;33m,\u001b[0m\u001b[0mplaylist_id\u001b[0m\u001b[1;33m)\u001b[0m\u001b[1;33m\u001b[0m\u001b[1;33m\u001b[0m\u001b[0m\n\u001b[0m\u001b[0;32m      4\u001b[0m     \u001b[1;31m# Immagazzina le tracce in una lista\u001b[0m\u001b[1;33m\u001b[0m\u001b[1;33m\u001b[0m\u001b[0m\n\u001b[0;32m      5\u001b[0m     \u001b[0mtracks\u001b[0m \u001b[1;33m=\u001b[0m \u001b[0mresults\u001b[0m\u001b[1;33m[\u001b[0m\u001b[1;34m'items'\u001b[0m\u001b[1;33m]\u001b[0m\u001b[1;33m\u001b[0m\u001b[1;33m\u001b[0m\u001b[0m\n",
      "\u001b[1;32m~\\anaconda3\\lib\\site-packages\\spotipy\\client.py\u001b[0m in \u001b[0;36muser_playlist_tracks\u001b[1;34m(self, user, playlist_id, fields, limit, offset, market)\u001b[0m\n\u001b[0;32m    753\u001b[0m                 \u001b[1;33m-\u001b[0m \u001b[0mmarket\u001b[0m \u001b[1;33m-\u001b[0m \u001b[0man\u001b[0m \u001b[0mISO\u001b[0m \u001b[1;36m3166\u001b[0m\u001b[1;33m-\u001b[0m\u001b[1;36m1\u001b[0m \u001b[0malpha\u001b[0m\u001b[1;33m-\u001b[0m\u001b[1;36m2\u001b[0m \u001b[0mcountry\u001b[0m \u001b[0mcode\u001b[0m\u001b[1;33m.\u001b[0m\u001b[1;33m\u001b[0m\u001b[1;33m\u001b[0m\u001b[0m\n\u001b[0;32m    754\u001b[0m         \"\"\"\n\u001b[1;32m--> 755\u001b[1;33m         return self.playlist_tracks(\n\u001b[0m\u001b[0;32m    756\u001b[0m             \u001b[0mplaylist_id\u001b[0m\u001b[1;33m,\u001b[0m\u001b[1;33m\u001b[0m\u001b[1;33m\u001b[0m\u001b[0m\n\u001b[0;32m    757\u001b[0m             \u001b[0mlimit\u001b[0m\u001b[1;33m=\u001b[0m\u001b[0mlimit\u001b[0m\u001b[1;33m,\u001b[0m\u001b[1;33m\u001b[0m\u001b[1;33m\u001b[0m\u001b[0m\n",
      "\u001b[1;32m~\\anaconda3\\lib\\site-packages\\spotipy\\client.py\u001b[0m in \u001b[0;36mplaylist_tracks\u001b[1;34m(self, playlist_id, fields, limit, offset, market, additional_types)\u001b[0m\n\u001b[0;32m    655\u001b[0m             \u001b[0mDeprecationWarning\u001b[0m\u001b[1;33m,\u001b[0m\u001b[1;33m\u001b[0m\u001b[1;33m\u001b[0m\u001b[0m\n\u001b[0;32m    656\u001b[0m         )\n\u001b[1;32m--> 657\u001b[1;33m         return self.playlist_items(playlist_id, fields, limit, offset,\n\u001b[0m\u001b[0;32m    658\u001b[0m                                    market, additional_types)\n\u001b[0;32m    659\u001b[0m \u001b[1;33m\u001b[0m\u001b[0m\n",
      "\u001b[1;32m~\\anaconda3\\lib\\site-packages\\spotipy\\client.py\u001b[0m in \u001b[0;36mplaylist_items\u001b[1;34m(self, playlist_id, fields, limit, offset, market, additional_types)\u001b[0m\n\u001b[0;32m    679\u001b[0m         \"\"\"\n\u001b[0;32m    680\u001b[0m         \u001b[0mplid\u001b[0m \u001b[1;33m=\u001b[0m \u001b[0mself\u001b[0m\u001b[1;33m.\u001b[0m\u001b[0m_get_id\u001b[0m\u001b[1;33m(\u001b[0m\u001b[1;34m\"playlist\"\u001b[0m\u001b[1;33m,\u001b[0m \u001b[0mplaylist_id\u001b[0m\u001b[1;33m)\u001b[0m\u001b[1;33m\u001b[0m\u001b[1;33m\u001b[0m\u001b[0m\n\u001b[1;32m--> 681\u001b[1;33m         return self._get(\n\u001b[0m\u001b[0;32m    682\u001b[0m             \u001b[1;34m\"playlists/%s/tracks\"\u001b[0m \u001b[1;33m%\u001b[0m \u001b[1;33m(\u001b[0m\u001b[0mplid\u001b[0m\u001b[1;33m)\u001b[0m\u001b[1;33m,\u001b[0m\u001b[1;33m\u001b[0m\u001b[1;33m\u001b[0m\u001b[0m\n\u001b[0;32m    683\u001b[0m             \u001b[0mlimit\u001b[0m\u001b[1;33m=\u001b[0m\u001b[0mlimit\u001b[0m\u001b[1;33m,\u001b[0m\u001b[1;33m\u001b[0m\u001b[1;33m\u001b[0m\u001b[0m\n",
      "\u001b[1;32m~\\anaconda3\\lib\\site-packages\\spotipy\\client.py\u001b[0m in \u001b[0;36m_get\u001b[1;34m(self, url, args, payload, **kwargs)\u001b[0m\n\u001b[0;32m    295\u001b[0m             \u001b[0mkwargs\u001b[0m\u001b[1;33m.\u001b[0m\u001b[0mupdate\u001b[0m\u001b[1;33m(\u001b[0m\u001b[0margs\u001b[0m\u001b[1;33m)\u001b[0m\u001b[1;33m\u001b[0m\u001b[1;33m\u001b[0m\u001b[0m\n\u001b[0;32m    296\u001b[0m \u001b[1;33m\u001b[0m\u001b[0m\n\u001b[1;32m--> 297\u001b[1;33m         \u001b[1;32mreturn\u001b[0m \u001b[0mself\u001b[0m\u001b[1;33m.\u001b[0m\u001b[0m_internal_call\u001b[0m\u001b[1;33m(\u001b[0m\u001b[1;34m\"GET\"\u001b[0m\u001b[1;33m,\u001b[0m \u001b[0murl\u001b[0m\u001b[1;33m,\u001b[0m \u001b[0mpayload\u001b[0m\u001b[1;33m,\u001b[0m \u001b[0mkwargs\u001b[0m\u001b[1;33m)\u001b[0m\u001b[1;33m\u001b[0m\u001b[1;33m\u001b[0m\u001b[0m\n\u001b[0m\u001b[0;32m    298\u001b[0m \u001b[1;33m\u001b[0m\u001b[0m\n\u001b[0;32m    299\u001b[0m     \u001b[1;32mdef\u001b[0m \u001b[0m_post\u001b[0m\u001b[1;33m(\u001b[0m\u001b[0mself\u001b[0m\u001b[1;33m,\u001b[0m \u001b[0murl\u001b[0m\u001b[1;33m,\u001b[0m \u001b[0margs\u001b[0m\u001b[1;33m=\u001b[0m\u001b[1;32mNone\u001b[0m\u001b[1;33m,\u001b[0m \u001b[0mpayload\u001b[0m\u001b[1;33m=\u001b[0m\u001b[1;32mNone\u001b[0m\u001b[1;33m,\u001b[0m \u001b[1;33m**\u001b[0m\u001b[0mkwargs\u001b[0m\u001b[1;33m)\u001b[0m\u001b[1;33m:\u001b[0m\u001b[1;33m\u001b[0m\u001b[1;33m\u001b[0m\u001b[0m\n",
      "\u001b[1;32m~\\anaconda3\\lib\\site-packages\\spotipy\\client.py\u001b[0m in \u001b[0;36m_internal_call\u001b[1;34m(self, method, url, payload, params)\u001b[0m\n\u001b[0;32m    238\u001b[0m \u001b[1;33m\u001b[0m\u001b[0m\n\u001b[0;32m    239\u001b[0m         \u001b[1;32mtry\u001b[0m\u001b[1;33m:\u001b[0m\u001b[1;33m\u001b[0m\u001b[1;33m\u001b[0m\u001b[0m\n\u001b[1;32m--> 240\u001b[1;33m             response = self._session.request(\n\u001b[0m\u001b[0;32m    241\u001b[0m                 \u001b[0mmethod\u001b[0m\u001b[1;33m,\u001b[0m \u001b[0murl\u001b[0m\u001b[1;33m,\u001b[0m \u001b[0mheaders\u001b[0m\u001b[1;33m=\u001b[0m\u001b[0mheaders\u001b[0m\u001b[1;33m,\u001b[0m \u001b[0mproxies\u001b[0m\u001b[1;33m=\u001b[0m\u001b[0mself\u001b[0m\u001b[1;33m.\u001b[0m\u001b[0mproxies\u001b[0m\u001b[1;33m,\u001b[0m\u001b[1;33m\u001b[0m\u001b[1;33m\u001b[0m\u001b[0m\n\u001b[0;32m    242\u001b[0m                 \u001b[0mtimeout\u001b[0m\u001b[1;33m=\u001b[0m\u001b[0mself\u001b[0m\u001b[1;33m.\u001b[0m\u001b[0mrequests_timeout\u001b[0m\u001b[1;33m,\u001b[0m \u001b[1;33m**\u001b[0m\u001b[0margs\u001b[0m\u001b[1;33m\u001b[0m\u001b[1;33m\u001b[0m\u001b[0m\n",
      "\u001b[1;32m~\\anaconda3\\lib\\site-packages\\requests\\sessions.py\u001b[0m in \u001b[0;36mrequest\u001b[1;34m(self, method, url, params, data, headers, cookies, files, auth, timeout, allow_redirects, proxies, hooks, stream, verify, cert, json)\u001b[0m\n\u001b[0;32m    540\u001b[0m         }\n\u001b[0;32m    541\u001b[0m         \u001b[0msend_kwargs\u001b[0m\u001b[1;33m.\u001b[0m\u001b[0mupdate\u001b[0m\u001b[1;33m(\u001b[0m\u001b[0msettings\u001b[0m\u001b[1;33m)\u001b[0m\u001b[1;33m\u001b[0m\u001b[1;33m\u001b[0m\u001b[0m\n\u001b[1;32m--> 542\u001b[1;33m         \u001b[0mresp\u001b[0m \u001b[1;33m=\u001b[0m \u001b[0mself\u001b[0m\u001b[1;33m.\u001b[0m\u001b[0msend\u001b[0m\u001b[1;33m(\u001b[0m\u001b[0mprep\u001b[0m\u001b[1;33m,\u001b[0m \u001b[1;33m**\u001b[0m\u001b[0msend_kwargs\u001b[0m\u001b[1;33m)\u001b[0m\u001b[1;33m\u001b[0m\u001b[1;33m\u001b[0m\u001b[0m\n\u001b[0m\u001b[0;32m    543\u001b[0m \u001b[1;33m\u001b[0m\u001b[0m\n\u001b[0;32m    544\u001b[0m         \u001b[1;32mreturn\u001b[0m \u001b[0mresp\u001b[0m\u001b[1;33m\u001b[0m\u001b[1;33m\u001b[0m\u001b[0m\n",
      "\u001b[1;32m~\\anaconda3\\lib\\site-packages\\requests\\sessions.py\u001b[0m in \u001b[0;36msend\u001b[1;34m(self, request, **kwargs)\u001b[0m\n\u001b[0;32m    653\u001b[0m \u001b[1;33m\u001b[0m\u001b[0m\n\u001b[0;32m    654\u001b[0m         \u001b[1;31m# Send the request\u001b[0m\u001b[1;33m\u001b[0m\u001b[1;33m\u001b[0m\u001b[0m\n\u001b[1;32m--> 655\u001b[1;33m         \u001b[0mr\u001b[0m \u001b[1;33m=\u001b[0m \u001b[0madapter\u001b[0m\u001b[1;33m.\u001b[0m\u001b[0msend\u001b[0m\u001b[1;33m(\u001b[0m\u001b[0mrequest\u001b[0m\u001b[1;33m,\u001b[0m \u001b[1;33m**\u001b[0m\u001b[0mkwargs\u001b[0m\u001b[1;33m)\u001b[0m\u001b[1;33m\u001b[0m\u001b[1;33m\u001b[0m\u001b[0m\n\u001b[0m\u001b[0;32m    656\u001b[0m \u001b[1;33m\u001b[0m\u001b[0m\n\u001b[0;32m    657\u001b[0m         \u001b[1;31m# Total elapsed time of the request (approximately)\u001b[0m\u001b[1;33m\u001b[0m\u001b[1;33m\u001b[0m\u001b[0m\n",
      "\u001b[1;32m~\\anaconda3\\lib\\site-packages\\requests\\adapters.py\u001b[0m in \u001b[0;36msend\u001b[1;34m(self, request, stream, timeout, verify, cert, proxies)\u001b[0m\n\u001b[0;32m    437\u001b[0m         \u001b[1;32mtry\u001b[0m\u001b[1;33m:\u001b[0m\u001b[1;33m\u001b[0m\u001b[1;33m\u001b[0m\u001b[0m\n\u001b[0;32m    438\u001b[0m             \u001b[1;32mif\u001b[0m \u001b[1;32mnot\u001b[0m \u001b[0mchunked\u001b[0m\u001b[1;33m:\u001b[0m\u001b[1;33m\u001b[0m\u001b[1;33m\u001b[0m\u001b[0m\n\u001b[1;32m--> 439\u001b[1;33m                 resp = conn.urlopen(\n\u001b[0m\u001b[0;32m    440\u001b[0m                     \u001b[0mmethod\u001b[0m\u001b[1;33m=\u001b[0m\u001b[0mrequest\u001b[0m\u001b[1;33m.\u001b[0m\u001b[0mmethod\u001b[0m\u001b[1;33m,\u001b[0m\u001b[1;33m\u001b[0m\u001b[1;33m\u001b[0m\u001b[0m\n\u001b[0;32m    441\u001b[0m                     \u001b[0murl\u001b[0m\u001b[1;33m=\u001b[0m\u001b[0murl\u001b[0m\u001b[1;33m,\u001b[0m\u001b[1;33m\u001b[0m\u001b[1;33m\u001b[0m\u001b[0m\n",
      "\u001b[1;32m~\\anaconda3\\lib\\site-packages\\urllib3\\connectionpool.py\u001b[0m in \u001b[0;36murlopen\u001b[1;34m(self, method, url, body, headers, retries, redirect, assert_same_host, timeout, pool_timeout, release_conn, chunked, body_pos, **response_kw)\u001b[0m\n\u001b[0;32m    697\u001b[0m \u001b[1;33m\u001b[0m\u001b[0m\n\u001b[0;32m    698\u001b[0m             \u001b[1;31m# Make the request on the httplib connection object.\u001b[0m\u001b[1;33m\u001b[0m\u001b[1;33m\u001b[0m\u001b[0m\n\u001b[1;32m--> 699\u001b[1;33m             httplib_response = self._make_request(\n\u001b[0m\u001b[0;32m    700\u001b[0m                 \u001b[0mconn\u001b[0m\u001b[1;33m,\u001b[0m\u001b[1;33m\u001b[0m\u001b[1;33m\u001b[0m\u001b[0m\n\u001b[0;32m    701\u001b[0m                 \u001b[0mmethod\u001b[0m\u001b[1;33m,\u001b[0m\u001b[1;33m\u001b[0m\u001b[1;33m\u001b[0m\u001b[0m\n",
      "\u001b[1;32m~\\anaconda3\\lib\\site-packages\\urllib3\\connectionpool.py\u001b[0m in \u001b[0;36m_make_request\u001b[1;34m(self, conn, method, url, timeout, chunked, **httplib_request_kw)\u001b[0m\n\u001b[0;32m    443\u001b[0m                     \u001b[1;31m# Python 3 (including for exceptions like SystemExit).\u001b[0m\u001b[1;33m\u001b[0m\u001b[1;33m\u001b[0m\u001b[0m\n\u001b[0;32m    444\u001b[0m                     \u001b[1;31m# Otherwise it looks like a bug in the code.\u001b[0m\u001b[1;33m\u001b[0m\u001b[1;33m\u001b[0m\u001b[0m\n\u001b[1;32m--> 445\u001b[1;33m                     \u001b[0msix\u001b[0m\u001b[1;33m.\u001b[0m\u001b[0mraise_from\u001b[0m\u001b[1;33m(\u001b[0m\u001b[0me\u001b[0m\u001b[1;33m,\u001b[0m \u001b[1;32mNone\u001b[0m\u001b[1;33m)\u001b[0m\u001b[1;33m\u001b[0m\u001b[1;33m\u001b[0m\u001b[0m\n\u001b[0m\u001b[0;32m    446\u001b[0m         \u001b[1;32mexcept\u001b[0m \u001b[1;33m(\u001b[0m\u001b[0mSocketTimeout\u001b[0m\u001b[1;33m,\u001b[0m \u001b[0mBaseSSLError\u001b[0m\u001b[1;33m,\u001b[0m \u001b[0mSocketError\u001b[0m\u001b[1;33m)\u001b[0m \u001b[1;32mas\u001b[0m \u001b[0me\u001b[0m\u001b[1;33m:\u001b[0m\u001b[1;33m\u001b[0m\u001b[1;33m\u001b[0m\u001b[0m\n\u001b[0;32m    447\u001b[0m             \u001b[0mself\u001b[0m\u001b[1;33m.\u001b[0m\u001b[0m_raise_timeout\u001b[0m\u001b[1;33m(\u001b[0m\u001b[0merr\u001b[0m\u001b[1;33m=\u001b[0m\u001b[0me\u001b[0m\u001b[1;33m,\u001b[0m \u001b[0murl\u001b[0m\u001b[1;33m=\u001b[0m\u001b[0murl\u001b[0m\u001b[1;33m,\u001b[0m \u001b[0mtimeout_value\u001b[0m\u001b[1;33m=\u001b[0m\u001b[0mread_timeout\u001b[0m\u001b[1;33m)\u001b[0m\u001b[1;33m\u001b[0m\u001b[1;33m\u001b[0m\u001b[0m\n",
      "\u001b[1;32m~\\anaconda3\\lib\\site-packages\\urllib3\\packages\\six.py\u001b[0m in \u001b[0;36mraise_from\u001b[1;34m(value, from_value)\u001b[0m\n",
      "\u001b[1;32m~\\anaconda3\\lib\\site-packages\\urllib3\\connectionpool.py\u001b[0m in \u001b[0;36m_make_request\u001b[1;34m(self, conn, method, url, timeout, chunked, **httplib_request_kw)\u001b[0m\n\u001b[0;32m    438\u001b[0m                 \u001b[1;31m# Python 3\u001b[0m\u001b[1;33m\u001b[0m\u001b[1;33m\u001b[0m\u001b[0m\n\u001b[0;32m    439\u001b[0m                 \u001b[1;32mtry\u001b[0m\u001b[1;33m:\u001b[0m\u001b[1;33m\u001b[0m\u001b[1;33m\u001b[0m\u001b[0m\n\u001b[1;32m--> 440\u001b[1;33m                     \u001b[0mhttplib_response\u001b[0m \u001b[1;33m=\u001b[0m \u001b[0mconn\u001b[0m\u001b[1;33m.\u001b[0m\u001b[0mgetresponse\u001b[0m\u001b[1;33m(\u001b[0m\u001b[1;33m)\u001b[0m\u001b[1;33m\u001b[0m\u001b[1;33m\u001b[0m\u001b[0m\n\u001b[0m\u001b[0;32m    441\u001b[0m                 \u001b[1;32mexcept\u001b[0m \u001b[0mBaseException\u001b[0m \u001b[1;32mas\u001b[0m \u001b[0me\u001b[0m\u001b[1;33m:\u001b[0m\u001b[1;33m\u001b[0m\u001b[1;33m\u001b[0m\u001b[0m\n\u001b[0;32m    442\u001b[0m                     \u001b[1;31m# Remove the TypeError from the exception chain in\u001b[0m\u001b[1;33m\u001b[0m\u001b[1;33m\u001b[0m\u001b[0m\n",
      "\u001b[1;32m~\\anaconda3\\lib\\http\\client.py\u001b[0m in \u001b[0;36mgetresponse\u001b[1;34m(self)\u001b[0m\n\u001b[0;32m   1369\u001b[0m         \u001b[1;32mtry\u001b[0m\u001b[1;33m:\u001b[0m\u001b[1;33m\u001b[0m\u001b[1;33m\u001b[0m\u001b[0m\n\u001b[0;32m   1370\u001b[0m             \u001b[1;32mtry\u001b[0m\u001b[1;33m:\u001b[0m\u001b[1;33m\u001b[0m\u001b[1;33m\u001b[0m\u001b[0m\n\u001b[1;32m-> 1371\u001b[1;33m                 \u001b[0mresponse\u001b[0m\u001b[1;33m.\u001b[0m\u001b[0mbegin\u001b[0m\u001b[1;33m(\u001b[0m\u001b[1;33m)\u001b[0m\u001b[1;33m\u001b[0m\u001b[1;33m\u001b[0m\u001b[0m\n\u001b[0m\u001b[0;32m   1372\u001b[0m             \u001b[1;32mexcept\u001b[0m \u001b[0mConnectionError\u001b[0m\u001b[1;33m:\u001b[0m\u001b[1;33m\u001b[0m\u001b[1;33m\u001b[0m\u001b[0m\n\u001b[0;32m   1373\u001b[0m                 \u001b[0mself\u001b[0m\u001b[1;33m.\u001b[0m\u001b[0mclose\u001b[0m\u001b[1;33m(\u001b[0m\u001b[1;33m)\u001b[0m\u001b[1;33m\u001b[0m\u001b[1;33m\u001b[0m\u001b[0m\n",
      "\u001b[1;32m~\\anaconda3\\lib\\http\\client.py\u001b[0m in \u001b[0;36mbegin\u001b[1;34m(self)\u001b[0m\n\u001b[0;32m    317\u001b[0m         \u001b[1;31m# read until we get a non-100 response\u001b[0m\u001b[1;33m\u001b[0m\u001b[1;33m\u001b[0m\u001b[0m\n\u001b[0;32m    318\u001b[0m         \u001b[1;32mwhile\u001b[0m \u001b[1;32mTrue\u001b[0m\u001b[1;33m:\u001b[0m\u001b[1;33m\u001b[0m\u001b[1;33m\u001b[0m\u001b[0m\n\u001b[1;32m--> 319\u001b[1;33m             \u001b[0mversion\u001b[0m\u001b[1;33m,\u001b[0m \u001b[0mstatus\u001b[0m\u001b[1;33m,\u001b[0m \u001b[0mreason\u001b[0m \u001b[1;33m=\u001b[0m \u001b[0mself\u001b[0m\u001b[1;33m.\u001b[0m\u001b[0m_read_status\u001b[0m\u001b[1;33m(\u001b[0m\u001b[1;33m)\u001b[0m\u001b[1;33m\u001b[0m\u001b[1;33m\u001b[0m\u001b[0m\n\u001b[0m\u001b[0;32m    320\u001b[0m             \u001b[1;32mif\u001b[0m \u001b[0mstatus\u001b[0m \u001b[1;33m!=\u001b[0m \u001b[0mCONTINUE\u001b[0m\u001b[1;33m:\u001b[0m\u001b[1;33m\u001b[0m\u001b[1;33m\u001b[0m\u001b[0m\n\u001b[0;32m    321\u001b[0m                 \u001b[1;32mbreak\u001b[0m\u001b[1;33m\u001b[0m\u001b[1;33m\u001b[0m\u001b[0m\n",
      "\u001b[1;32m~\\anaconda3\\lib\\http\\client.py\u001b[0m in \u001b[0;36m_read_status\u001b[1;34m(self)\u001b[0m\n\u001b[0;32m    278\u001b[0m \u001b[1;33m\u001b[0m\u001b[0m\n\u001b[0;32m    279\u001b[0m     \u001b[1;32mdef\u001b[0m \u001b[0m_read_status\u001b[0m\u001b[1;33m(\u001b[0m\u001b[0mself\u001b[0m\u001b[1;33m)\u001b[0m\u001b[1;33m:\u001b[0m\u001b[1;33m\u001b[0m\u001b[1;33m\u001b[0m\u001b[0m\n\u001b[1;32m--> 280\u001b[1;33m         \u001b[0mline\u001b[0m \u001b[1;33m=\u001b[0m \u001b[0mstr\u001b[0m\u001b[1;33m(\u001b[0m\u001b[0mself\u001b[0m\u001b[1;33m.\u001b[0m\u001b[0mfp\u001b[0m\u001b[1;33m.\u001b[0m\u001b[0mreadline\u001b[0m\u001b[1;33m(\u001b[0m\u001b[0m_MAXLINE\u001b[0m \u001b[1;33m+\u001b[0m \u001b[1;36m1\u001b[0m\u001b[1;33m)\u001b[0m\u001b[1;33m,\u001b[0m \u001b[1;34m\"iso-8859-1\"\u001b[0m\u001b[1;33m)\u001b[0m\u001b[1;33m\u001b[0m\u001b[1;33m\u001b[0m\u001b[0m\n\u001b[0m\u001b[0;32m    281\u001b[0m         \u001b[1;32mif\u001b[0m \u001b[0mlen\u001b[0m\u001b[1;33m(\u001b[0m\u001b[0mline\u001b[0m\u001b[1;33m)\u001b[0m \u001b[1;33m>\u001b[0m \u001b[0m_MAXLINE\u001b[0m\u001b[1;33m:\u001b[0m\u001b[1;33m\u001b[0m\u001b[1;33m\u001b[0m\u001b[0m\n\u001b[0;32m    282\u001b[0m             \u001b[1;32mraise\u001b[0m \u001b[0mLineTooLong\u001b[0m\u001b[1;33m(\u001b[0m\u001b[1;34m\"status line\"\u001b[0m\u001b[1;33m)\u001b[0m\u001b[1;33m\u001b[0m\u001b[1;33m\u001b[0m\u001b[0m\n",
      "\u001b[1;32m~\\anaconda3\\lib\\socket.py\u001b[0m in \u001b[0;36mreadinto\u001b[1;34m(self, b)\u001b[0m\n\u001b[0;32m    702\u001b[0m         \u001b[1;32mwhile\u001b[0m \u001b[1;32mTrue\u001b[0m\u001b[1;33m:\u001b[0m\u001b[1;33m\u001b[0m\u001b[1;33m\u001b[0m\u001b[0m\n\u001b[0;32m    703\u001b[0m             \u001b[1;32mtry\u001b[0m\u001b[1;33m:\u001b[0m\u001b[1;33m\u001b[0m\u001b[1;33m\u001b[0m\u001b[0m\n\u001b[1;32m--> 704\u001b[1;33m                 \u001b[1;32mreturn\u001b[0m \u001b[0mself\u001b[0m\u001b[1;33m.\u001b[0m\u001b[0m_sock\u001b[0m\u001b[1;33m.\u001b[0m\u001b[0mrecv_into\u001b[0m\u001b[1;33m(\u001b[0m\u001b[0mb\u001b[0m\u001b[1;33m)\u001b[0m\u001b[1;33m\u001b[0m\u001b[1;33m\u001b[0m\u001b[0m\n\u001b[0m\u001b[0;32m    705\u001b[0m             \u001b[1;32mexcept\u001b[0m \u001b[0mtimeout\u001b[0m\u001b[1;33m:\u001b[0m\u001b[1;33m\u001b[0m\u001b[1;33m\u001b[0m\u001b[0m\n\u001b[0;32m    706\u001b[0m                 \u001b[0mself\u001b[0m\u001b[1;33m.\u001b[0m\u001b[0m_timeout_occurred\u001b[0m \u001b[1;33m=\u001b[0m \u001b[1;32mTrue\u001b[0m\u001b[1;33m\u001b[0m\u001b[1;33m\u001b[0m\u001b[0m\n",
      "\u001b[1;32m~\\anaconda3\\lib\\ssl.py\u001b[0m in \u001b[0;36mrecv_into\u001b[1;34m(self, buffer, nbytes, flags)\u001b[0m\n\u001b[0;32m   1239\u001b[0m                   \u001b[1;34m\"non-zero flags not allowed in calls to recv_into() on %s\"\u001b[0m \u001b[1;33m%\u001b[0m\u001b[1;33m\u001b[0m\u001b[1;33m\u001b[0m\u001b[0m\n\u001b[0;32m   1240\u001b[0m                   self.__class__)\n\u001b[1;32m-> 1241\u001b[1;33m             \u001b[1;32mreturn\u001b[0m \u001b[0mself\u001b[0m\u001b[1;33m.\u001b[0m\u001b[0mread\u001b[0m\u001b[1;33m(\u001b[0m\u001b[0mnbytes\u001b[0m\u001b[1;33m,\u001b[0m \u001b[0mbuffer\u001b[0m\u001b[1;33m)\u001b[0m\u001b[1;33m\u001b[0m\u001b[1;33m\u001b[0m\u001b[0m\n\u001b[0m\u001b[0;32m   1242\u001b[0m         \u001b[1;32melse\u001b[0m\u001b[1;33m:\u001b[0m\u001b[1;33m\u001b[0m\u001b[1;33m\u001b[0m\u001b[0m\n\u001b[0;32m   1243\u001b[0m             \u001b[1;32mreturn\u001b[0m \u001b[0msuper\u001b[0m\u001b[1;33m(\u001b[0m\u001b[1;33m)\u001b[0m\u001b[1;33m.\u001b[0m\u001b[0mrecv_into\u001b[0m\u001b[1;33m(\u001b[0m\u001b[0mbuffer\u001b[0m\u001b[1;33m,\u001b[0m \u001b[0mnbytes\u001b[0m\u001b[1;33m,\u001b[0m \u001b[0mflags\u001b[0m\u001b[1;33m)\u001b[0m\u001b[1;33m\u001b[0m\u001b[1;33m\u001b[0m\u001b[0m\n",
      "\u001b[1;32m~\\anaconda3\\lib\\ssl.py\u001b[0m in \u001b[0;36mread\u001b[1;34m(self, len, buffer)\u001b[0m\n\u001b[0;32m   1097\u001b[0m         \u001b[1;32mtry\u001b[0m\u001b[1;33m:\u001b[0m\u001b[1;33m\u001b[0m\u001b[1;33m\u001b[0m\u001b[0m\n\u001b[0;32m   1098\u001b[0m             \u001b[1;32mif\u001b[0m \u001b[0mbuffer\u001b[0m \u001b[1;32mis\u001b[0m \u001b[1;32mnot\u001b[0m \u001b[1;32mNone\u001b[0m\u001b[1;33m:\u001b[0m\u001b[1;33m\u001b[0m\u001b[1;33m\u001b[0m\u001b[0m\n\u001b[1;32m-> 1099\u001b[1;33m                 \u001b[1;32mreturn\u001b[0m \u001b[0mself\u001b[0m\u001b[1;33m.\u001b[0m\u001b[0m_sslobj\u001b[0m\u001b[1;33m.\u001b[0m\u001b[0mread\u001b[0m\u001b[1;33m(\u001b[0m\u001b[0mlen\u001b[0m\u001b[1;33m,\u001b[0m \u001b[0mbuffer\u001b[0m\u001b[1;33m)\u001b[0m\u001b[1;33m\u001b[0m\u001b[1;33m\u001b[0m\u001b[0m\n\u001b[0m\u001b[0;32m   1100\u001b[0m             \u001b[1;32melse\u001b[0m\u001b[1;33m:\u001b[0m\u001b[1;33m\u001b[0m\u001b[1;33m\u001b[0m\u001b[0m\n\u001b[0;32m   1101\u001b[0m                 \u001b[1;32mreturn\u001b[0m \u001b[0mself\u001b[0m\u001b[1;33m.\u001b[0m\u001b[0m_sslobj\u001b[0m\u001b[1;33m.\u001b[0m\u001b[0mread\u001b[0m\u001b[1;33m(\u001b[0m\u001b[0mlen\u001b[0m\u001b[1;33m)\u001b[0m\u001b[1;33m\u001b[0m\u001b[1;33m\u001b[0m\u001b[0m\n",
      "\u001b[1;31mKeyboardInterrupt\u001b[0m: "
     ]
    }
   ],
   "source": [
    "tracks_list = []\n",
    "for userID, playlistID, playlistURI in extracted_ids:\n",
    "    tracks = get_playlist_tracks(userID, playlistURI)\n",
    "    tracks_list.append(tracks)"
   ]
  },
  {
   "cell_type": "code",
   "execution_count": null,
   "id": "cd61c0f0-24ed-429d-9e11-4892246511d2",
   "metadata": {},
   "outputs": [],
   "source": [
    "lista = np.arange(len(tracks_list))\n",
    "for i in lista:\n",
    "    print(f\"utente {i+1}: {len(tracks_list[i])} tracce\")"
   ]
  },
  {
   "cell_type": "markdown",
   "id": "b8680b49-97e6-462f-a98c-35123247205a",
   "metadata": {},
   "source": [
    "Inserimento delle features delle tracce all'interno della lista `audio_features_list` richiamando la funzione `get_track_features`.\n",
    "\n",
    "`audio_features_list` è una lista che contiene liste di tutti gli utenti che a loro volta sono liste di dizionari (ogni dizionario corrisponde le features di una canzone)"
   ]
  },
  {
   "cell_type": "code",
   "execution_count": null,
   "id": "ff6feeef-d304-4332-bdb0-836099e3c97f",
   "metadata": {},
   "outputs": [],
   "source": [
    "audio_features_list = []\n",
    "\n",
    "# doppio ciclo for per accedere al valore del field ['track']['uri'] -> l'uri è un identificativo della traccia. es: 'spotify:track:7iLuBTHJSXM2HalKHFqEEy'\n",
    "track_ids = [d['track']['uri'] for sublist in tracks_list for d in sublist]\n",
    "audio_features = get_track_features(track_ids)\n",
    "audio_features_list.append(audio_features)"
   ]
  },
  {
   "cell_type": "markdown",
   "id": "5026677c-4f01-4cd9-a4e0-110a0bc69202",
   "metadata": {},
   "source": [
    "## Trasformazioni dati in JSON"
   ]
  },
  {
   "cell_type": "markdown",
   "id": "2ec374df-5ad3-4d9d-8d6b-bf5b06c27468",
   "metadata": {},
   "source": [
    "La funzione `save_to_json` effettua il savaltaggio di una lista in un file JSON"
   ]
  },
  {
   "cell_type": "code",
   "execution_count": null,
   "id": "62e1af63-a4fa-4023-9335-2442f7508710",
   "metadata": {},
   "outputs": [],
   "source": [
    "def save_to_json(obj, filename):\n",
    "    with open(filename, 'w') as f:\n",
    "        json.dump(obj, f)"
   ]
  },
  {
   "cell_type": "markdown",
   "id": "01186324-b4e0-40e0-a6b8-59afa623c72c",
   "metadata": {},
   "source": [
    "### totale_track_101 JSON"
   ]
  },
  {
   "cell_type": "code",
   "execution_count": null,
   "id": "24cd29e5-9393-4523-a4e9-b0c2c5400acd",
   "metadata": {},
   "outputs": [],
   "source": [
    "track_list_json = save_to_json(tracks_list, \"tracks_list.json\")"
   ]
  },
  {
   "cell_type": "markdown",
   "id": "362f8b07-663a-4079-acdc-220bb99bae35",
   "metadata": {},
   "source": [
    "### totale_audio_features JSON"
   ]
  },
  {
   "cell_type": "code",
   "execution_count": null,
   "id": "29f7321c-bab1-40d4-828a-2aad2566c83b",
   "metadata": {},
   "outputs": [],
   "source": [
    "save_to_json(audio_features_list, \"audio_features_list.json\")"
   ]
  },
  {
   "cell_type": "markdown",
   "id": "2dd5ded1-3c88-4da3-9f6b-3075fc999f74",
   "metadata": {},
   "source": [
    "## MongoDB"
   ]
  },
  {
   "cell_type": "markdown",
   "id": "9a96291c-1c94-4b6a-8315-77eedb666bc9",
   "metadata": {},
   "source": [
    "Autenticazione al server di `MongoDB` attraverso le credenziali"
   ]
  },
  {
   "cell_type": "code",
   "execution_count": null,
   "id": "db0c87b1-8036-464c-b11c-c0635361cec2",
   "metadata": {},
   "outputs": [],
   "source": [
    "password = \"s5ya6KD41Gs5EBks\"\n",
    "MONGODB_URL_STRING = \"mongodb+srv://davide_scianca:\" + password + \"@cluster0.zaeh3wk.mongodb.net/?retryWrites=true&w=majority\""
   ]
  },
  {
   "cell_type": "code",
   "execution_count": null,
   "id": "204c7af8-6367-4fed-94a9-a6829e143f65",
   "metadata": {},
   "outputs": [],
   "source": [
    "client = MongoClient(MONGODB_URL_STRING)\n",
    "print(client)"
   ]
  },
  {
   "cell_type": "markdown",
   "id": "3464503f-d5e3-49c5-abdc-c8239be3b929",
   "metadata": {},
   "source": [
    "### Visualizzazione db"
   ]
  },
  {
   "cell_type": "code",
   "execution_count": null,
   "id": "9a5de66d-5c2c-4b0a-89ca-9e1e087995cc",
   "metadata": {},
   "outputs": [],
   "source": [
    "def display_db(client):\n",
    "    db = client.list_database_names()\n",
    "    print(db)"
   ]
  },
  {
   "cell_type": "code",
   "execution_count": null,
   "id": "e2b2ae1f-4070-4ab3-92fd-4cc852d7d95b",
   "metadata": {},
   "outputs": [],
   "source": [
    "display_db(client)"
   ]
  },
  {
   "cell_type": "markdown",
   "id": "489198ad-4f67-4373-84c9-9ca0213e67bf",
   "metadata": {},
   "source": [
    "### Creazione db"
   ]
  },
  {
   "cell_type": "code",
   "execution_count": null,
   "id": "883f3fab-f83e-469a-a3df-2ac1ef261aff",
   "metadata": {},
   "outputs": [],
   "source": [
    "db = client.lab_spoty\n",
    "db"
   ]
  },
  {
   "cell_type": "markdown",
   "id": "fd4d9a8a-ca0e-4cc6-ab89-dc75230fdab8",
   "metadata": {},
   "source": [
    "### Visualizzazione collection \n",
    "prima dell'inserimento"
   ]
  },
  {
   "cell_type": "code",
   "execution_count": null,
   "id": "5b32bff8-543d-4c3d-9ce3-3f7c9d49a329",
   "metadata": {},
   "outputs": [],
   "source": [
    "def display_collections(db):\n",
    "    collections = db.list_collection_names()\n",
    "    print(collections)"
   ]
  },
  {
   "cell_type": "code",
   "execution_count": null,
   "id": "6af9ef03-64be-4b8c-b6ea-221fb126214c",
   "metadata": {},
   "outputs": [],
   "source": [
    "display_collections(db)"
   ]
  },
  {
   "cell_type": "markdown",
   "id": "1a214fab-0c6d-401c-8770-ea31fd2c2401",
   "metadata": {},
   "source": [
    "### Creazione collection"
   ]
  },
  {
   "cell_type": "code",
   "execution_count": null,
   "id": "07c77831-2ee9-4ba8-9e7e-e07865359be7",
   "metadata": {},
   "outputs": [],
   "source": [
    "tracks_collection = db.track_list\n",
    "audio_features_collection = db.features_list"
   ]
  },
  {
   "cell_type": "markdown",
   "id": "8df808e8-fb8b-4b3d-a396-4485513b6c29",
   "metadata": {},
   "source": [
    "### Caricamento documenti su Mongo db"
   ]
  },
  {
   "cell_type": "code",
   "execution_count": null,
   "id": "bf6d75cb-41dc-4397-91f7-fd3543ad5afb",
   "metadata": {},
   "outputs": [],
   "source": [
    "def insert_data_to_mongodb(json_file, collection):\n",
    "    \"\"\"json_file: the name of the JSON file that you want to read data from.\n",
    "    collection: the MongoDB collection that you want to insert the data into.\"\"\"\n",
    "    \n",
    "    with open(json_file, \"r\") as data_file:\n",
    "        data = json.load(data_file)\n",
    "        \n",
    "    client = MongoClient()\n",
    "    db = client.mydb\n",
    "    \n",
    "    # doppio ciclo for per poter accedere ai dizionari, visto sono contenuti all'interno di due liste\n",
    "    for outer_list in data:\n",
    "    # Itera attraverso ogni lista interna\n",
    "        for inner_list in outer_list:\n",
    "        # Inserisci il dizionario come documento nella raccolta\n",
    "            collection.insert_one(inner_list)\n",
    "        \n",
    "    print(\"Data inserted to MongoDB\")"
   ]
  },
  {
   "cell_type": "markdown",
   "id": "c20ab9e8-c1c2-490d-bb3a-e6f2655f1866",
   "metadata": {
    "tags": []
   },
   "source": [
    "### Eliminazione documenti su Mongo db"
   ]
  },
  {
   "cell_type": "markdown",
   "id": "2dbe5fb9-1d28-4aac-b80c-bf2b8fae20cf",
   "metadata": {},
   "source": [
    "La funzione `delete_all_data` è stata creata per velocizzare l'eliminazione dei dati e il succesivo ricaricamento con i dati aggiornati."
   ]
  },
  {
   "cell_type": "code",
   "execution_count": null,
   "id": "30346336-4568-4619-a5ed-d68a72008c77",
   "metadata": {},
   "outputs": [],
   "source": [
    "def delete_all_data(collection):\n",
    "    \"\"\"collection: the MongoDB collection that you want to delete the data into.\"\"\"\n",
    "    \n",
    "    collection.delete_many({})\n",
    "    \n",
    "    print(\"All data deleted from collection.\")"
   ]
  },
  {
   "cell_type": "markdown",
   "id": "1194b4ca-19e0-4d96-9e03-65f145c9c6e3",
   "metadata": {},
   "source": [
    "#### tracks_collection"
   ]
  },
  {
   "cell_type": "code",
   "execution_count": null,
   "id": "deb3e140-3e7c-4cf7-8973-b62c91043530",
   "metadata": {},
   "outputs": [],
   "source": [
    "# insert_data_to_mongodb(\"tracks_list.json\", tracks_collection)"
   ]
  },
  {
   "cell_type": "code",
   "execution_count": null,
   "id": "66d7ab6a-315e-4246-a0bb-0902462dd173",
   "metadata": {},
   "outputs": [],
   "source": [
    "# delete_all_data(tracks_collection)"
   ]
  },
  {
   "cell_type": "markdown",
   "id": "7ba12f73-8a33-42ed-b2ab-19448f7862f5",
   "metadata": {},
   "source": [
    "#### totale_audio_features"
   ]
  },
  {
   "cell_type": "code",
   "execution_count": null,
   "id": "662f82e5-47a2-41f5-9449-2e9e80a41107",
   "metadata": {},
   "outputs": [],
   "source": [
    "# insert_data_to_mongodb('audio_features_list.json', audio_features_collection)"
   ]
  },
  {
   "cell_type": "code",
   "execution_count": null,
   "id": "0ac9be47-a086-44df-b251-51da873f41b4",
   "metadata": {},
   "outputs": [],
   "source": [
    "# delete_all_data(audio_features_collection)"
   ]
  },
  {
   "cell_type": "markdown",
   "id": "4bf7c310-76c9-4de8-a828-30971dffa2da",
   "metadata": {},
   "source": [
    "### Visualizzazione collection\n",
    "dopo l'inserimento"
   ]
  },
  {
   "cell_type": "code",
   "execution_count": null,
   "id": "0c379cfc-b48c-4cc5-bdf3-159cce4749e6",
   "metadata": {},
   "outputs": [],
   "source": [
    "display_collections(db)"
   ]
  },
  {
   "cell_type": "markdown",
   "id": "68a40831-3759-4284-baa6-5ff363d2b8c5",
   "metadata": {},
   "source": [
    "### Conteggio documenti"
   ]
  },
  {
   "cell_type": "code",
   "execution_count": null,
   "id": "fc836025-b8b5-4d16-ad47-1672d57efd8d",
   "metadata": {},
   "outputs": [],
   "source": [
    "def count_documents_all_collections(db):\n",
    "    collections = db.list_collection_names()\n",
    "    for collection in collections:\n",
    "        count = db[collection].count_documents({})\n",
    "        print(f\"Number of documents in {collection} collection: \\n\\t{count}\\n\")"
   ]
  },
  {
   "cell_type": "code",
   "execution_count": null,
   "id": "4b0dc0c6-4502-494e-b907-9b9e243141e8",
   "metadata": {},
   "outputs": [],
   "source": [
    "count_documents_all_collections(db)"
   ]
  },
  {
   "cell_type": "markdown",
   "id": "53d840fd-2b5a-40a4-ad7e-8cf8d05c5c57",
   "metadata": {},
   "source": [
    "### Lookup"
   ]
  },
  {
   "cell_type": "markdown",
   "id": "37a18f7c-6ead-4f1b-8ed0-b1b3b4581373",
   "metadata": {},
   "source": [
    "La funzione `lookupCollection` permette di eseguire il merge attraverso `uri` tra la lista `tracks_list` e `playlistLink`"
   ]
  },
  {
   "cell_type": "code",
   "execution_count": null,
   "id": "46c8f72e-a20b-4b0e-85e9-9486b60a85a7",
   "metadata": {},
   "outputs": [],
   "source": [
    "def lookupCollection(db, main_collection, join_collection, main_field, join_field, as_name):\n",
    "    \"\"\"db: the MongoDB database that you want to perform the join on.\n",
    "    main_collection: the main collection that you want to join with the join_collection.\n",
    "    join_collection: the collection that you want to join to the main collection.\n",
    "    main_field: the field from the main collection to be used for the join.\n",
    "    join_field: the field from the join collection to be used for the join.\n",
    "    as_name: the name of the new array field that contains the joined documents\"\"\"\n",
    "    \n",
    "    lookup_query = [{'$lookup' : \n",
    "                        {'from': join_collection,\n",
    "                         'localField': main_field,\n",
    "                         'foreignField': join_field,\n",
    "                         'as': as_name }\n",
    "                    }]\n",
    "    \n",
    "    joined_docs = db[main_collection].aggregate(lookup_query)\n",
    "    \n",
    "    return list(joined_docs)"
   ]
  },
  {
   "cell_type": "markdown",
   "id": "82a5ef8e-9565-4a83-b3a8-4bf189df3a8a",
   "metadata": {},
   "source": [
    "#### Lookup tra Uri di tracks_collection e audio_features_collection"
   ]
  },
  {
   "cell_type": "code",
   "execution_count": null,
   "id": "98f1b775-82be-4fa5-8d83-f7de6fb7ba1a",
   "metadata": {},
   "outputs": [],
   "source": [
    "tracks_features_merged = lookupCollection(db, 'track_list', 'features_list', 'track.uri', 'uri', 'audioFeatures')"
   ]
  },
  {
   "cell_type": "markdown",
   "id": "e48e3409-1af4-4f16-b6d5-3b7ac11e2392",
   "metadata": {},
   "source": [
    "La lista `listanumeri` serve in seguito per estrarre i dati dalla lista di dizionari"
   ]
  },
  {
   "cell_type": "code",
   "execution_count": null,
   "id": "eb228368-eda9-45f0-8efb-8fb2dec5c6a7",
   "metadata": {},
   "outputs": [],
   "source": [
    "listanumeri = np.arange(0, len(tracks_features_merged))"
   ]
  },
  {
   "cell_type": "markdown",
   "id": "43460062-28b7-48eb-85b5-ada812425145",
   "metadata": {},
   "source": [
    "#### Cancellazione degli ObjectID e creazione di un file JSON\n",
    "Serve fare questo passaggio perchè i file JSON non possono contenere gli `ObjectID` (ID univoco che mongo assegna per ogni document)"
   ]
  },
  {
   "cell_type": "code",
   "execution_count": null,
   "id": "5b5319db-123e-4afa-8f0c-640992a4a303",
   "metadata": {},
   "outputs": [],
   "source": [
    "for num in listanumeri:\n",
    "    if 'audioFeatures' in tracks_features_merged[num]:\n",
    "        for feature in tracks_features_merged[num]['audioFeatures']:\n",
    "            if '_id' in feature:\n",
    "                del feature['_id']\n",
    "        if '_id' in tracks_features_merged[num]:\n",
    "            del tracks_features_merged[num]['_id']"
   ]
  },
  {
   "cell_type": "code",
   "execution_count": null,
   "id": "36795aff-180f-4c4b-991f-fa967d7921d6",
   "metadata": {},
   "outputs": [],
   "source": [
    "def parse_json(data):\n",
    "    return json.loads(json_util.dumps(data))"
   ]
  },
  {
   "cell_type": "code",
   "execution_count": null,
   "id": "7776f1e0-e1e6-4727-9df2-c6b0df677f45",
   "metadata": {},
   "outputs": [],
   "source": [
    "tracks_features_merged = parse_json(tracks_features_merged)\n",
    "len(tracks_features_merged)"
   ]
  },
  {
   "cell_type": "markdown",
   "id": "35441867-7998-4af9-a0cf-10c10be6bd60",
   "metadata": {},
   "source": [
    "Salvataggio in formato JSON del risultato del merge fatto su Mongo"
   ]
  },
  {
   "cell_type": "code",
   "execution_count": null,
   "id": "5d397961-c758-45b4-9cce-d02fc75e6b24",
   "metadata": {},
   "outputs": [],
   "source": [
    "save_to_json(tracks_features_merged, \"tracks_features_merged.json\")"
   ]
  },
  {
   "cell_type": "markdown",
   "id": "7820f2e3-3936-4897-97f7-222680620da1",
   "metadata": {},
   "source": [
    "## Preparazione ai dati per Neo4j\n",
    "Per ogni tipologia di nodi che si vuole caricare su Neo4j si crea un csv."
   ]
  },
  {
   "cell_type": "markdown",
   "id": "adf99546-f215-4c3d-bfe2-1136db1699d8",
   "metadata": {},
   "source": [
    "La funzione `df_to_csv` per prima cosa converte i `Dataframe` creati per il caricamento dei nodi su `Neo4j` in `csv`, e li carica in una cartella specifica dopo esser stata creata."
   ]
  },
  {
   "cell_type": "code",
   "execution_count": null,
   "id": "dbd467f2-00af-4f31-a343-fe0c65091f01",
   "metadata": {},
   "outputs": [],
   "source": [
    "def df_to_csv(df, name_csv):\n",
    "    path = 'C:\\\\Users\\\\david\\\\OneDrive\\\\Documenti\\\\TTF\\\\ANNO 2022-2023\\\\Progetto Spoty NoSQL\\\\prova advance\\\\df_to_csv\\\\'\n",
    "    \n",
    "    if not os.path.exists(path):\n",
    "        os.makedirs(path)\n",
    "        \n",
    "    file_path = os.path.join(path, name_csv)\n",
    "    \n",
    "    df.to_csv(file_path, index=False)"
   ]
  },
  {
   "cell_type": "markdown",
   "id": "b51edc66-5150-4710-b126-cc360420da23",
   "metadata": {},
   "source": [
    "### Utenti"
   ]
  },
  {
   "cell_type": "markdown",
   "id": "7fe22baf-277e-4d26-8c7d-af6f0403d16b",
   "metadata": {},
   "source": [
    "La lista `listaNumStep` serve per estrarre un singolo id per ogni utente"
   ]
  },
  {
   "cell_type": "code",
   "execution_count": null,
   "id": "9b96c48f-7da1-4b15-8550-eb02c8f04c9a",
   "metadata": {},
   "outputs": [],
   "source": [
    "listaNumStep = np.arange(0, len(tracks_features_merged), 101)"
   ]
  },
  {
   "cell_type": "markdown",
   "id": "61a9abaa-5534-4726-80d4-1a753001142e",
   "metadata": {},
   "source": [
    "#### Creazione delle variabili idUser e song_id_groups"
   ]
  },
  {
   "cell_type": "markdown",
   "id": "3d41d8eb-5a6c-4a63-90c4-b8c5079ccf2e",
   "metadata": {},
   "source": [
    "Estrazione in `idUser` degli id degi utenti"
   ]
  },
  {
   "cell_type": "code",
   "execution_count": null,
   "id": "2858b6cf-6050-49b3-80a9-5d803d66bc7a",
   "metadata": {},
   "outputs": [],
   "source": [
    "idUser = [tracks_features_merged[num]['added_by']['id'] for num in listaNumStep]"
   ]
  },
  {
   "cell_type": "markdown",
   "id": "69dbae84-01c4-4fc6-90f2-87f174d67be0",
   "metadata": {},
   "source": [
    "Creazione di gruppi di 101 canzoni divise"
   ]
  },
  {
   "cell_type": "code",
   "execution_count": null,
   "id": "f84c5a18-269b-4746-b225-fe042c2821ec",
   "metadata": {},
   "outputs": [],
   "source": [
    "group_size = 101\n",
    "song_ids = [x[\"track\"][\"id\"] for x in tracks_features_merged]\n",
    "song_id_groups = [song_ids[i:i+group_size] for i in range(0, len(song_ids), group_size)]"
   ]
  },
  {
   "cell_type": "code",
   "execution_count": null,
   "id": "bb8589a0-d80d-4cd9-849e-bceed881be64",
   "metadata": {},
   "outputs": [],
   "source": [
    "utenti_dict = [{\"name\": \"Dave\", \"id\":\"\", \"track\":\"\"},\n",
    "               {\"name\": \"Diego\", \"id\":\"\", \"track\":\"\"},\n",
    "               {\"name\": \"Teo\", \"id\":\"\", \"track\":\"\"},\n",
    "               {\"name\": \"Ale\", \"id\":\"\", \"track\":\"\"},\n",
    "               {\"name\": \"Pandarino\", \"id\":\"\", \"track\":\"\"},\n",
    "               {\"name\": \"Chiara\", \"id\":\"\", \"track\":\"\"},\n",
    "               {\"name\": \"Martol\", \"id\":\"\", \"track\":\"\"},\n",
    "               {\"name\": \"Svngvlli\", \"id\":\"\", \"track\":\"\"},\n",
    "               {\"name\": \"Ousssssama\", \"id\":\"\", \"track\":\"\"},\n",
    "               {\"name\": \"Mehjibi\", \"id\":\"\", \"track\":\"\"},\n",
    "               {\"name\": \"Pietro\", \"id\":\"\", \"track\":\"\"},\n",
    "               {\"name\": \"Mattia\", \"id\":\"\", \"track\":\"\"},\n",
    "               {\"name\": \"Riccardo\", \"id\":\"\", \"track\":\"\"},\n",
    "               {\"name\": \"Nicho\", \"id\":\"\", \"track\":\"\"},\n",
    "               {\"name\": \"Ale Galli\", \"id\":\"\", \"track\":\"\"},\n",
    "               {\"name\": \"Manuello\", \"id\":\"\", \"track\":\"\"},\n",
    "               {\"name\": \"Cam\", \"id\":\"\", \"track\":\"\"},\n",
    "               {\"name\": \"Fossa\", \"id\":\"\", \"track\":\"\"},\n",
    "               {\"name\": \"Fughi\", \"id\":\"\", \"track\":\"\"},\n",
    "               {\"name\": \"Anto\", \"id\":\"\", \"track\":\"\"},\n",
    "               {\"name\": \"Christian\", \"id\":\"\", \"track\":\"\"},\n",
    "               {\"name\": \"Thomas\", \"id\":\"\", \"track\":\"\"},\n",
    "               {\"name\": \"Maude\", \"id\":\"\", \"track\":\"\"},\n",
    "               {\"name\": \"matipelle\", \"id\":\"\", \"track\":\"\"},\n",
    "               {\"name\": \"Naginni97\", \"id\":\"\", \"track\":\"\"},\n",
    "              ]"
   ]
  },
  {
   "cell_type": "markdown",
   "id": "776c9cec-b213-4276-b8f4-5722f94c380e",
   "metadata": {},
   "source": [
    "inserimento delle variabili all'interno del dizionario `utenti_dict`"
   ]
  },
  {
   "cell_type": "code",
   "execution_count": null,
   "id": "fafbe8db-9ab0-42ea-b8a0-af5efc776490",
   "metadata": {},
   "outputs": [],
   "source": [
    "for i in range(len(idUser)):\n",
    "    utenti_dict[i]['id'] = idUser[i]\n",
    "    utenti_dict[i]['track'] = song_id_groups[i]"
   ]
  },
  {
   "cell_type": "markdown",
   "id": "e8d3a37e-afae-46e8-85f0-ef1109c780ed",
   "metadata": {},
   "source": [
    "Conversione del dizionario `utenti_dict` in Dataframe"
   ]
  },
  {
   "cell_type": "code",
   "execution_count": null,
   "id": "114596b0-9ebe-44f6-af46-862f9780de3e",
   "metadata": {},
   "outputs": [],
   "source": [
    "df_users = pd.DataFrame(utenti_dict)\n",
    "df_users"
   ]
  },
  {
   "cell_type": "markdown",
   "id": "e280878f-4543-44ad-b22c-2b9b5901f551",
   "metadata": {},
   "source": [
    "Conversione del Dataframe in csv"
   ]
  },
  {
   "cell_type": "code",
   "execution_count": null,
   "id": "3b6b8863-1efd-4339-995c-f6acc74cd55b",
   "metadata": {},
   "outputs": [],
   "source": [
    "df_to_csv(df_users, \"df_users.csv\")"
   ]
  },
  {
   "cell_type": "markdown",
   "id": "00e36062-fb59-4404-aae7-081af707efd3",
   "metadata": {},
   "source": [
    "### Traccia"
   ]
  },
  {
   "cell_type": "markdown",
   "id": "57e85245-e02d-4650-8c27-6ae215062de1",
   "metadata": {},
   "source": [
    "Inserimento all'interno delle liste: \n",
    "- danceability\n",
    "- energy\n",
    "- key\n",
    "- loudness\n",
    "- mode\n",
    "- speechiness\n",
    "- acousticness\n",
    "- instrumentalness\n",
    "- liveness\n",
    "- valence\n",
    "- tempo\n",
    "- duration_ms\n",
    "- nameAlbumTr\n",
    "- idAlbumTr\n",
    "\n",
    "i valori attraverso un ciclo for che itera all'interno della lista di Dizionari\n",
    "\n",
    "All'interno di `tracks_artists` vengono aggiunti:\n",
    "- tracks\n",
    "- idTracks\n",
    "- artist\n",
    "- idArtist\n",
    "\n",
    "if e elif servono per gestire il caso in cui una traccia sia cantata da più artisti"
   ]
  },
  {
   "cell_type": "code",
   "execution_count": null,
   "id": "50bbfe6a-7029-44ff-8465-bbf2b68cb923",
   "metadata": {},
   "outputs": [],
   "source": [
    "tracks_artists =[]\n",
    "for num in listanumeri:\n",
    "    if len(tracks_features_merged[num]['track']['artists']) == 1:\n",
    "        tracks_artists.append({'tracks':tracks_features_merged[num]['track']['name'],\n",
    "                               'idTracks':tracks_features_merged[num]['audioFeatures'][0]['id'],\n",
    "                               'artist': tracks_features_merged[num]['track']['artists'][0]['name'],\n",
    "                               'idArtist': tracks_features_merged[num]['track']['artists'][0]['id']})\n",
    "\n",
    "    elif len(tracks_features_merged[num]['track']['artists']) > 1:\n",
    "        tracks_artists.append({'tracks':tracks_features_merged[num]['track']['name'],\n",
    "                               'idTracks':tracks_features_merged[num]['audioFeatures'][0]['id'],\n",
    "                               'artist': [i['name'] for i in tracks_features_merged[num]['track']['artists']],\n",
    "                               'idArtist': [i['id'] for i in tracks_features_merged[num]['track']['artists']]})\n",
    "\n",
    "danceability = []; energy = []; key = []; loudness = [];\n",
    "mode = []; speechiness = []; acousticness = []; instrumentalness = []; liveness = []\n",
    "valence = []; tempo = []; duration_ms = []; nameAlbumTr = []; idAlbumTr = [];\n",
    "\n",
    "for num in listanumeri:\n",
    "    nameAlbumTr.append(tracks_features_merged[num]['track']['album']['name'])\n",
    "    idAlbumTr.append(tracks_features_merged[num]['track']['album']['id'])\n",
    "    danceability.append(tracks_features_merged[num]['audioFeatures'][0]['danceability'])\n",
    "    energy.append(tracks_features_merged[num]['audioFeatures'][0]['energy'])\n",
    "    key.append(tracks_features_merged[num]['audioFeatures'][0]['key'])\n",
    "    loudness.append(tracks_features_merged[num]['audioFeatures'][0]['loudness'])\n",
    "    mode.append(tracks_features_merged[num]['audioFeatures'][0]['mode'])\n",
    "    speechiness.append(tracks_features_merged[num]['audioFeatures'][0]['speechiness'])\n",
    "    acousticness.append(tracks_features_merged[num]['audioFeatures'][0]['acousticness'])\n",
    "    instrumentalness.append(tracks_features_merged[num]['audioFeatures'][0]['instrumentalness'])\n",
    "    liveness.append(tracks_features_merged[num]['audioFeatures'][0]['liveness'])\n",
    "    valence.append(tracks_features_merged[num]['audioFeatures'][0]['valence'])\n",
    "    tempo.append(tracks_features_merged[num]['audioFeatures'][0]['tempo'])\n",
    "    duration_ms.append(tracks_features_merged[num]['audioFeatures'][0]['duration_ms'])"
   ]
  },
  {
   "cell_type": "markdown",
   "id": "c7a6fd35-9222-4276-a315-c08b4b1a8d23",
   "metadata": {},
   "source": [
    "Creazione di due liste:\n",
    "- `lista_chiavi_Tr` che contiene le chiavi di un dizionario che creiamo nella cella successiva\n",
    "- `lista_valori_Tr` che contiene le variabili della liste create"
   ]
  },
  {
   "cell_type": "code",
   "execution_count": null,
   "id": "aaad3b01-cca4-4a54-b9dc-0cf780c01e0f",
   "metadata": {},
   "outputs": [],
   "source": [
    "lista_chiavi_Tr = ['nameAlbumTr', 'idAlbumTr', 'danceability','energy','key','loudness','mode','speechiness','acousticness','instrumentalness','liveness','valence','tempo','duration_ms']\n",
    "lista_valori_Tr = [nameAlbumTr, idAlbumTr, danceability, energy, key, loudness, mode, speechiness, acousticness, instrumentalness, liveness, valence, tempo, duration_ms]"
   ]
  },
  {
   "cell_type": "markdown",
   "id": "1dc2d223-fc37-4019-b59c-ce9c7bbbecf0",
   "metadata": {},
   "source": [
    "Creazione del dizionario"
   ]
  },
  {
   "cell_type": "code",
   "execution_count": null,
   "id": "38586fad-621e-4849-8aff-1a67a0b371a0",
   "metadata": {},
   "outputs": [],
   "source": [
    "properties_tracks = {lista_chiavi_Tr[i]:lista_valori_Tr[i] for i in range(len(lista_chiavi_Tr))}"
   ]
  },
  {
   "cell_type": "markdown",
   "id": "6a2dd44b-b7cd-4d5e-854f-4993c2cef183",
   "metadata": {},
   "source": [
    "Conversione della lista `track_artists` e del dizionario `properties_tracks` in un Dataframe"
   ]
  },
  {
   "cell_type": "code",
   "execution_count": null,
   "id": "8ce20aaf-1dc7-4677-bc8b-5b2dee053135",
   "metadata": {},
   "outputs": [],
   "source": [
    "df_tracks = pd.concat([pd.DataFrame(tracks_artists), pd.DataFrame(properties_tracks)], axis=1)\n",
    "df_tracks.head()"
   ]
  },
  {
   "cell_type": "markdown",
   "id": "88eb3569-f7fc-4d89-b8b9-317b5489cb3d",
   "metadata": {},
   "source": [
    "Conversione del Dataframe in csv"
   ]
  },
  {
   "cell_type": "code",
   "execution_count": null,
   "id": "68505821-29f8-45c6-8488-3a22a38b2b64",
   "metadata": {},
   "outputs": [],
   "source": [
    "df_to_csv(df_tracks, \"df_tracks.csv\")"
   ]
  },
  {
   "cell_type": "markdown",
   "id": "3cbac0a6-7f73-4f31-a7ca-684b401cdf75",
   "metadata": {},
   "source": [
    "#### lista utenti che hanno ascoltato la stessa canzone\n",
    "questa è la soluzione nel Notebook di chi ha ascolato la stessa canzone. Non è inclusa all'interno del csv."
   ]
  },
  {
   "cell_type": "code",
   "execution_count": null,
   "id": "135b213a-7b1b-4fd5-b299-668f11750628",
   "metadata": {},
   "outputs": [],
   "source": [
    "track = []; idTrack = []; users = [];\n",
    "\n",
    "for num in listanumeri:\n",
    "    track.append(tracks_features_merged[num]['track']['name'])\n",
    "    idTrack.append(tracks_features_merged[num]['track']['name'])\n",
    "    users.append(tracks_features_merged[num]['added_by']['id'])\n",
    "\n",
    "track_user = {'Tracks': track, 'idTracks': idTrack, 'Users': users}\n",
    "df_users_tracks = pd.DataFrame(track_user)"
   ]
  },
  {
   "cell_type": "code",
   "execution_count": null,
   "id": "0b38bfb7-a2ce-47f8-a627-8c07397d31e4",
   "metadata": {},
   "outputs": [],
   "source": [
    "pd.options.display.max_rows = None"
   ]
  },
  {
   "cell_type": "code",
   "execution_count": null,
   "id": "6229ea86-f637-4b4f-a8d2-f57da4cdc24b",
   "metadata": {
    "tags": []
   },
   "outputs": [],
   "source": [
    "# groupby per traccia creando una lista degli utenti che l'hanno ascoltata\n",
    "df_users_tracks_agg = df_users_tracks.groupby('Tracks')['Users'].agg(list).reset_index()\n",
    "\n",
    "# selezione delle canzoni che sono state ascoltate da più utenti\n",
    "more_user = df_users_tracks_agg['Users'].apply(lambda x: len(x) > 1)\n",
    "\n",
    "# creazione di una lista per contenere gli utenti che hanno ascolato la stessa canzone \n",
    "more_user_index = more_user[more_user == True].index.tolist()\n",
    "df_users_tracks_agg = df_users_tracks_agg.iloc[more_user_index]\n",
    "\n",
    "# conversione dell'id con il nome inserito all'interno del dizionario utenti_dict\n",
    "df_users_tracks_agg['name'] = df_users_tracks_agg['Users'].apply(lambda x: [d['name'] for d in utenti_dict if d['id'] in x])\n",
    "\n",
    "df_users_tracks_agg.head()"
   ]
  },
  {
   "cell_type": "markdown",
   "id": "7d26e8c5-384c-444a-b594-1b728fdecb5e",
   "metadata": {},
   "source": [
    "Conversione del Dataframe in csv"
   ]
  },
  {
   "cell_type": "code",
   "execution_count": null,
   "id": "c7bdcae5-102e-475a-ade6-bb6c76f42af6",
   "metadata": {
    "tags": []
   },
   "outputs": [],
   "source": [
    "df_to_csv(df_users_tracks_agg, \"df_users_tracks_agg.csv\")"
   ]
  },
  {
   "cell_type": "markdown",
   "id": "82ea8af5-cf9b-490e-8f31-ff51436ea730",
   "metadata": {},
   "source": [
    "### Artist"
   ]
  },
  {
   "cell_type": "markdown",
   "id": "7a720c52-2d1f-4193-9b33-9024842b658e",
   "metadata": {},
   "source": [
    "Essendo che la liibreria `spotipy` non fornisce il genere musicale degli artisti, la funzione `get_artist_data` fornisce dall'Endpoint dell'API un dizionario contenente il nome, l'id e i generi dell'artista."
   ]
  },
  {
   "cell_type": "code",
   "execution_count": null,
   "id": "07498068-d372-49e9-b19a-a6eb56ff8bd8",
   "metadata": {},
   "outputs": [],
   "source": [
    "def get_artist_data(artist_ids, client_id, client_secret):\n",
    "    # Get an access token\n",
    "    response = requests.post(\"https://accounts.spotify.com/api/token\", {\n",
    "        \"grant_type\": \"client_credentials\",\n",
    "        \"client_id\": client_id,\n",
    "        \"client_secret\": client_secret\n",
    "    })\n",
    "    access_token = response.json()[\"access_token\"]\n",
    "\n",
    "    # Set the authorization header\n",
    "    headers = {\n",
    "        \"Authorization\": f\"Bearer {access_token}\"\n",
    "    }\n",
    "\n",
    "    artist_data = []\n",
    "    for artist_id in artist_ids:\n",
    "        try:\n",
    "            # Make a request to the Spotify API to get an artist\n",
    "            response = requests.get(f\"https://api.spotify.com/v1/artists/{artist_id}\", headers=headers)\n",
    "\n",
    "            # Get the artist data\n",
    "            artist = response.json()\n",
    "\n",
    "            # Append the artist name, ID, and primary genre to the artist_data list\n",
    "            artist_data.append({\n",
    "                \"name\": artist[\"name\"],\n",
    "                \"id\": artist[\"id\"],\n",
    "                \"genre\": artist[\"genres\"]\n",
    "            })\n",
    "        except:\n",
    "            # Handle the error here, for example, by logging it\n",
    "            print(f'Error occured while getting artist {artist_id}')\n",
    "            continue\n",
    "    return artist_data"
   ]
  },
  {
   "cell_type": "code",
   "execution_count": null,
   "id": "dd958b44-2e3c-4042-973f-658b4c24c566",
   "metadata": {},
   "outputs": [],
   "source": [
    "art = []\n",
    "idArt = []\n",
    "for num in listanumeri:\n",
    "    for num1 in tracks_features_merged[num]['track']['artists']:\n",
    "        art.append(num1['name'])\n",
    "        idArt.append(num1['id'])"
   ]
  },
  {
   "cell_type": "code",
   "execution_count": null,
   "id": "f00061bf-aa5a-42b6-8f76-8504df091b2d",
   "metadata": {},
   "outputs": [],
   "source": [
    "art = [x for i, x in enumerate(art) if i == art.index(x)]\n",
    "idArt = [x for i, x in enumerate(idArt) if i == idArt.index(x)]\n",
    "\n",
    "len(art)"
   ]
  },
  {
   "cell_type": "markdown",
   "id": "63f8c37f-da3f-415d-9271-dcf95bd164e3",
   "metadata": {},
   "source": [
    "Conversione del dizionario `artist_data` in Dataframe"
   ]
  },
  {
   "cell_type": "code",
   "execution_count": null,
   "id": "6afc3b10-0c66-46bb-8ff5-8424ecac45b6",
   "metadata": {},
   "outputs": [],
   "source": [
    "artist_data = get_artist_data(idArt, clientID, clientSecret)\n",
    "\n",
    "df_artist = pd.DataFrame(artist_data)\n",
    "df_artist.head()"
   ]
  },
  {
   "cell_type": "markdown",
   "id": "560aa5e5-9c60-4ed1-b002-ffdd68ea14b3",
   "metadata": {},
   "source": [
    "#### artisti senza genere\n",
    "Visto che alcuni artisti non hanno un genere musicale definito la cella della colonna `genre` corrispondente è stata modificata inserendo la stringa `Without Genre`"
   ]
  },
  {
   "cell_type": "code",
   "execution_count": null,
   "id": "4ed97c30-c9da-4576-b5b7-657b181b8038",
   "metadata": {},
   "outputs": [],
   "source": [
    "empty_lists = df_artist['genre'].apply(lambda x: len(x) == 0)\n",
    "\n",
    "empty_lists_index = empty_lists[empty_lists == True].index.tolist()\n",
    "\n",
    "df_artist['genre'] = df_artist['genre'].apply(lambda x: x if len(x) > 0 else [\"Without Genre\"])"
   ]
  },
  {
   "cell_type": "markdown",
   "id": "b2beb5f6-4b91-4bd1-a5db-d42b3b7586b7",
   "metadata": {},
   "source": [
    "Conversione del Dataframe in csv"
   ]
  },
  {
   "cell_type": "code",
   "execution_count": null,
   "id": "cf960a70-9098-46de-af89-49c27f3c84dc",
   "metadata": {},
   "outputs": [],
   "source": [
    "df_to_csv(df_artist, \"df_artist.csv\")"
   ]
  },
  {
   "cell_type": "markdown",
   "id": "f1bb2cb9-20a4-4680-b281-800aebd6c1e8",
   "metadata": {
    "tags": []
   },
   "source": [
    "### Album\n",
    "Inserimento all'interno delle liste: \n",
    "- nameAlbum\n",
    "- idAlbum\n",
    "- typeAlbum\n",
    "- totalTracks\n",
    "- releaseDate\n",
    "\n",
    "i valori attraverso un ciclo for che itera all'interno della lista di Dizionari\n",
    "\n",
    "All'interno di `album_artists` vengono aggiunti:\n",
    "- artist\n",
    "- idArtist\n",
    "\n",
    "\n",
    "if e elif servono per gestire il caso in cui un album appartenga a più artisti"
   ]
  },
  {
   "cell_type": "code",
   "execution_count": null,
   "id": "20dc8ba9-996b-4e48-935b-1de239e89372",
   "metadata": {},
   "outputs": [],
   "source": [
    "nameAlbum = []; idAlbum = []; typeAlbum = [];\n",
    "totalTracks = []; releaseDate = []; \n",
    "\n",
    "for num in listanumeri:\n",
    "    nameAlbum.append(tracks_features_merged[num]['track']['album']['name'])\n",
    "    idAlbum.append(tracks_features_merged[num]['track']['album']['id'])\n",
    "    typeAlbum.append(tracks_features_merged[num]['track']['album']['album_type'])\n",
    "    totalTracks.append(tracks_features_merged[num]['track']['album']['total_tracks'])\n",
    "    releaseDate.append(tracks_features_merged[num]['track']['album']['release_date'])\n",
    "    \n",
    "album_artists = []\n",
    "for num in listanumeri:\n",
    "    if len(tracks_features_merged[num]['track']['album']['artists']) == 1:\n",
    "        album_artists.append({'artist': tracks_features_merged[num]['track']['artists'][0]['name'],\n",
    "                               'idArtist': tracks_features_merged[num]['track']['artists'][0]['id']})\n",
    "\n",
    "    elif len(tracks_features_merged[num]['track']['album']['artists']) > 1:\n",
    "        album_artists.append({'artist': [i['name'] for i in tracks_features_merged[num]['track']['artists']],\n",
    "                               'idArtist': [i['id'] for i in tracks_features_merged[num]['track']['artists']]})"
   ]
  },
  {
   "cell_type": "markdown",
   "id": "1db1e58b-4324-4a88-9351-d7ff165762c8",
   "metadata": {},
   "source": [
    "Creazione di due liste:\n",
    "- `lista_chiavi_Tr` che contiene le chiavi di un dizionario che creiamo nella cella successiva\n",
    "- `lista_valori_Tr` che contiene le variabili della liste create"
   ]
  },
  {
   "cell_type": "code",
   "execution_count": null,
   "id": "39f20a69-6caa-457c-9e91-94b72a622919",
   "metadata": {},
   "outputs": [],
   "source": [
    "lista_chiavi_Al = ['nameAlbum','idAlbum','typeAlbum','totalTracks','releaseDate']\n",
    "lista_valori_Al = [nameAlbum, idAlbum, typeAlbum, totalTracks, releaseDate]\n",
    "\n",
    "album_data = {lista_chiavi_Al[i]:lista_valori_Al[i] for i in range(len(lista_chiavi_Al))}"
   ]
  },
  {
   "cell_type": "markdown",
   "id": "d7bae789-b3dc-4654-a636-efaca52a6441",
   "metadata": {},
   "source": [
    "Conversione della lista `album_artists` e del dizionario `album_data` in un Dataframe"
   ]
  },
  {
   "cell_type": "code",
   "execution_count": null,
   "id": "3cfe4ec6-3a49-4ea0-a193-2b5ad8872de3",
   "metadata": {},
   "outputs": [],
   "source": [
    "df_album = pd.concat([pd.DataFrame(album_data), pd.DataFrame(album_artists)], axis=1)\n",
    "df_album.head()"
   ]
  },
  {
   "cell_type": "markdown",
   "id": "b8f072b7-37a0-4d30-a619-84ca155cd0e5",
   "metadata": {},
   "source": [
    "Conversione del Dataframe in csv"
   ]
  },
  {
   "cell_type": "code",
   "execution_count": null,
   "id": "829bde97-5a6b-420b-9ee2-ad7cd6dcd475",
   "metadata": {},
   "outputs": [],
   "source": [
    "df_to_csv(df_album, \"df_album.csv\")"
   ]
  },
  {
   "cell_type": "markdown",
   "id": "af433548-89f1-44d2-9a54-c671b68df1aa",
   "metadata": {},
   "source": [
    "### Genre\n",
    "Vengono presi tutti i generi di tutte liste all'interno della colonna `genre` del df `df_artist` e vengono rimossi i duplicati"
   ]
  },
  {
   "cell_type": "code",
   "execution_count": null,
   "id": "4b5e1a91-eb0a-455e-9f60-3049a60469b8",
   "metadata": {},
   "outputs": [],
   "source": [
    "generi = df_artist['genre'].tolist()\n",
    "\n",
    "# appiattimento lista generi\n",
    "generi = [el for sub in generi for el in sub]\n",
    "\n",
    "# rimozione elementi duplicati\n",
    "generi = [x for i, x in enumerate(generi) if i == generi.index(x)]"
   ]
  },
  {
   "cell_type": "code",
   "execution_count": null,
   "id": "cb1a049c-3de8-4ed4-a9e1-755aa14e920e",
   "metadata": {},
   "outputs": [],
   "source": [
    "series_generi = pd.Series(generi, name=\"genres\")\n",
    "series_generi.head()"
   ]
  },
  {
   "cell_type": "code",
   "execution_count": null,
   "id": "b4a3ab64-0559-4b00-bcfa-0ec500a694da",
   "metadata": {},
   "outputs": [],
   "source": [
    "series_generi.shape"
   ]
  },
  {
   "cell_type": "markdown",
   "id": "9ba0c05c-c039-45f3-bc3b-d278ead12aeb",
   "metadata": {},
   "source": [
    "Conversione della Series in csv"
   ]
  },
  {
   "cell_type": "code",
   "execution_count": null,
   "id": "db649e28-3039-4257-8fb2-237d63125704",
   "metadata": {},
   "outputs": [],
   "source": [
    "df_to_csv(series_generi, \"series_generi.csv\")"
   ]
  },
  {
   "cell_type": "markdown",
   "id": "81b90484-0aa1-4440-969e-c4f13a0bf3fe",
   "metadata": {},
   "source": [
    "## Neo4j"
   ]
  },
  {
   "cell_type": "markdown",
   "id": "03691e50-7b04-4b28-b187-c1a459c14708",
   "metadata": {},
   "source": [
    "### Autenticazione\n",
    "Autenticazione a Neo4j con le credenziali di neo4j"
   ]
  },
  {
   "cell_type": "code",
   "execution_count": null,
   "id": "5a1036d8-579e-4662-aeb4-af4c24668b8b",
   "metadata": {},
   "outputs": [],
   "source": [
    "uri = \"neo4j+s://e1f35a86.databases.neo4j.io\"\n",
    "user = \"neo4j\"\n",
    "password = \"B86HHTw6sSK_OVsCf0Aupckr5B4KRBMT_qqs00LErFk\""
   ]
  },
  {
   "cell_type": "code",
   "execution_count": null,
   "id": "57e4a5ac-69cb-4ba6-afd9-c7fcccf8923e",
   "metadata": {},
   "outputs": [],
   "source": [
    "neo4jInstance = GraphDatabase.driver(uri, auth=(user, password))"
   ]
  },
  {
   "cell_type": "markdown",
   "id": "72ba3e60-243b-49d4-87e3-43f7eb65441b",
   "metadata": {},
   "source": [
    "#### run Query"
   ]
  },
  {
   "cell_type": "markdown",
   "id": "577f2dee-2409-4112-82bd-36962d55725f",
   "metadata": {},
   "source": [
    "La funzione `runNeo4jQuery` esegue la query inserita in formato stringa all'interno di una variabile"
   ]
  },
  {
   "cell_type": "code",
   "execution_count": null,
   "id": "5c6672df-6dad-41e8-9771-bda3fff5bedd",
   "metadata": {},
   "outputs": [],
   "source": [
    "def runNeo4jQuery(query):\n",
    "    with neo4jInstance.session(database=\"neo4j\") as session:\n",
    "        result = session.run(query)\n",
    "        #pp.pprint(result.__dict__)\n",
    "        for row in result:\n",
    "            print(str(row))\n",
    "        session.close()"
   ]
  },
  {
   "cell_type": "markdown",
   "id": "ccc12b8c-de2c-461b-8a4f-31eabf9a62c5",
   "metadata": {},
   "source": [
    "#### Pulizia dati\n",
    "La funzione `clean_column` grazie ad una regex elimina i caratteri che non sono ammessi su neo4j visto che sono all'interno delle colonne `track`, `artist` e `album`"
   ]
  },
  {
   "cell_type": "code",
   "execution_count": null,
   "id": "6e52d50f-1185-4d75-b666-d6111170ec83",
   "metadata": {},
   "outputs": [],
   "source": [
    "def clean_column(df, column):\n",
    "    import string\n",
    "    df[column] = df[column].apply(lambda x: x.translate(str.maketrans(\"\", \"\", \":.[](){}'\\\"*?/\\\\\")))\n",
    "    return df"
   ]
  },
  {
   "cell_type": "markdown",
   "id": "a52bb715-5b59-4ebf-b969-39664556ecf5",
   "metadata": {},
   "source": [
    "#### eliminazione di tutti i nodi e di tutte le relazioni"
   ]
  },
  {
   "cell_type": "markdown",
   "id": "8513ae44-4b80-4381-8d8a-759947f55d81",
   "metadata": {},
   "source": [
    "La seguente query è stata creata per velocizzare l'eliminazione dei dati e il succesivo ricaricamento con i dati aggiornati."
   ]
  },
  {
   "cell_type": "code",
   "execution_count": null,
   "id": "65c79351-f40c-4b66-93e8-25f9a12f4982",
   "metadata": {},
   "outputs": [],
   "source": [
    "query_delete = \"MATCH (n) DETACH DELETE n\"\n",
    "# runNeo4jQuery(query_delete)"
   ]
  },
  {
   "cell_type": "markdown",
   "id": "e1de6abc-a64d-4c5b-b395-8058d2aa23eb",
   "metadata": {
    "tags": []
   },
   "source": [
    "## Caricamento Nodi"
   ]
  },
  {
   "cell_type": "code",
   "execution_count": null,
   "id": "78281255-f6ac-4526-b936-dd30ff7fe0f0",
   "metadata": {
    "tags": []
   },
   "outputs": [],
   "source": [
    "def import_csv(file_path):\n",
    "    data = pd.read_csv(file_path)\n",
    "    return data"
   ]
  },
  {
   "cell_type": "markdown",
   "id": "3157a4f5-f9c1-4902-b24b-164a45b3a4c1",
   "metadata": {},
   "source": [
    "### Utenti"
   ]
  },
  {
   "cell_type": "code",
   "execution_count": null,
   "id": "60bc7995-4b64-4d3b-b189-bb5ef2731279",
   "metadata": {},
   "outputs": [],
   "source": [
    "users_path = \"C:\\\\Users\\\\david\\\\OneDrive\\\\Documenti\\\\TTF\\\\ANNO 2022-2023\\\\Progetto Spoty NoSQL\\\\prova advance\\\\df_to_csv\\\\df_users.csv\"\n",
    "users_csv = import_csv(users_path)"
   ]
  },
  {
   "cell_type": "code",
   "execution_count": null,
   "id": "20d15115-b729-4555-b51b-3a8c68965ac8",
   "metadata": {
    "tags": []
   },
   "outputs": [],
   "source": [
    "for index, row in users_csv.iterrows():\n",
    "    name = row[\"name\"]\n",
    "    id = row[\"id\"]\n",
    "    track = row[\"track\"]\n",
    "    query_node_users = f'CREATE (u:User {{ nameUser: \"{name}\", id: \"{id}\", track: \"{track}\"}})'\n",
    "    \n",
    "    # runNeo4jQuery(query_node_users)"
   ]
  },
  {
   "cell_type": "markdown",
   "id": "a96c5a79-c659-4207-a9a3-c1ba26077f9f",
   "metadata": {},
   "source": [
    "### Traccia"
   ]
  },
  {
   "cell_type": "code",
   "execution_count": null,
   "id": "1efce789-af9f-4904-ad7e-bbc98db01093",
   "metadata": {},
   "outputs": [],
   "source": [
    "tracks_path = \"C:\\\\Users\\\\david\\\\OneDrive\\\\Documenti\\\\TTF\\\\ANNO 2022-2023\\\\Progetto Spoty NoSQL\\\\prova advance\\\\df_to_csv\\\\df_tracks.csv\"\n",
    "tracks_csv = import_csv(tracks_path)"
   ]
  },
  {
   "cell_type": "code",
   "execution_count": null,
   "id": "f5d65d34-1981-4176-a567-855f75038d0e",
   "metadata": {},
   "outputs": [],
   "source": [
    "tracks_csv = clean_column(tracks_csv, \"tracks\")\n",
    "tracks_csv = clean_column(tracks_csv, \"artist\")\n",
    "tracks_csv = clean_column(tracks_csv, \"nameAlbumTr\")"
   ]
  },
  {
   "cell_type": "code",
   "execution_count": null,
   "id": "3521455d-cdf7-447b-b032-a577e7b6841f",
   "metadata": {
    "tags": []
   },
   "outputs": [],
   "source": [
    "for index, row in tracks_csv.iterrows():\n",
    "    tracks = row[\"tracks\"]\n",
    "    idTracks = row[\"idTracks\"]\n",
    "    artist = row[\"artist\"]\n",
    "    idArtist = row[\"idArtist\"]\n",
    "    nameAlbum = row[\"nameAlbumTr\"]\n",
    "    idAlbum = row[\"idAlbumTr\"]\n",
    "    danceability = row[\"danceability\"]\n",
    "    key = row[\"key\"]\n",
    "    loudness = row[\"loudness\"]\n",
    "    mode = row[\"mode\"]\n",
    "    speechiness = row[\"speechiness\"]\n",
    "    acousticness = row[\"acousticness\"]\n",
    "    instrumentalness = row[\"instrumentalness\"]\n",
    "    liveness = row[\"liveness\"]\n",
    "    valence = row[\"valence\"]\n",
    "    tempo = row[\"tempo\"]\n",
    "    duration_ms = row[\"duration_ms\"]    \n",
    "    \n",
    "    query_node_tracks = f'CREATE (t:Track {{nameTrack: \"{tracks}\", idTracks: \"{idTracks}\", artist: \"{artist}\", \\\n",
    "    idArtist: \"{idArtist}\", nameAlbum: \"{nameAlbum}\", idAlbum: \"{idAlbum}\", danceability: {float(danceability)}, \\\n",
    "    key: {int(key)}, loudness: {float(loudness)}, mode: {int(mode)}, speechiness: {float(speechiness)}, acousticness: {float(acousticness)}, \\\n",
    "    instrumentalness: {float(instrumentalness)}, liveness: {float(liveness)}, valence: {float(valence)}, tempo: {float(tempo)}, \\\n",
    "    duration_ms: {int(duration_ms)} }} )'\n",
    "\n",
    "    # runNeo4jQuery(query_node_tracks)"
   ]
  },
  {
   "cell_type": "markdown",
   "id": "bb460a5b-401a-4212-afc6-a6efb7970370",
   "metadata": {},
   "source": [
    "### Artist"
   ]
  },
  {
   "cell_type": "code",
   "execution_count": null,
   "id": "11c537f1-4d13-4f1b-a7d1-9e4ffa24b0f3",
   "metadata": {},
   "outputs": [],
   "source": [
    "artist_path = \"C:\\\\Users\\\\david\\\\OneDrive\\\\Documenti\\\\TTF\\\\ANNO 2022-2023\\\\Progetto Spoty NoSQL\\\\prova advance\\\\df_to_csv\\\\df_artist.csv\"\n",
    "artist_csv = import_csv(artist_path)"
   ]
  },
  {
   "cell_type": "code",
   "execution_count": null,
   "id": "a69005be-7465-4db5-a163-e7c045fca775",
   "metadata": {},
   "outputs": [],
   "source": [
    "artist_csv = clean_column(artist_csv, \"name\")"
   ]
  },
  {
   "cell_type": "code",
   "execution_count": null,
   "id": "72e56804-c2ea-45f0-851f-c173a1207861",
   "metadata": {
    "tags": []
   },
   "outputs": [],
   "source": [
    "for index, row in artist_csv.iterrows():\n",
    "    name = row[\"name\"]\n",
    "    id = row[\"id\"]\n",
    "    genre = row[\"genre\"]\n",
    "    \n",
    "    query_node_artists = f'CREATE (a:Artist {{nameArtist: \"{name}\", id: \"{id}\", genre: \"{genre}\"}})'\n",
    "    \n",
    "    # runNeo4jQuery(query_node_artists)"
   ]
  },
  {
   "cell_type": "markdown",
   "id": "224a163f-042f-45ea-b243-614974ab41d2",
   "metadata": {},
   "source": [
    "### Album"
   ]
  },
  {
   "cell_type": "code",
   "execution_count": null,
   "id": "ac23ce6e-722f-43dc-b78b-5be56b256436",
   "metadata": {},
   "outputs": [],
   "source": [
    "album_path = \"C:\\\\Users\\\\david\\\\OneDrive\\\\Documenti\\\\TTF\\\\ANNO 2022-2023\\\\Progetto Spoty NoSQL\\\\prova advance\\\\df_to_csv\\\\df_album.csv\"\n",
    "album_csv = import_csv(album_path)"
   ]
  },
  {
   "cell_type": "code",
   "execution_count": null,
   "id": "f82c612c-fe1b-4451-a1fe-8aae7bf4fcf3",
   "metadata": {},
   "outputs": [],
   "source": [
    "album_csv = clean_column(album_csv, \"nameAlbum\")\n",
    "album_csv = clean_column(album_csv, \"artist\")"
   ]
  },
  {
   "cell_type": "code",
   "execution_count": null,
   "id": "92542666-e24f-43f8-aa65-7bde9b472738",
   "metadata": {},
   "outputs": [],
   "source": [
    "album_csv['releaseDate'] = pd.to_datetime(album_csv['releaseDate']).dt.date"
   ]
  },
  {
   "cell_type": "code",
   "execution_count": null,
   "id": "5afb8108-5dca-4e64-9abe-08c24307a283",
   "metadata": {},
   "outputs": [],
   "source": [
    "for index, row in album_csv.iterrows():\n",
    "    nameAlbum = row[\"nameAlbum\"]\n",
    "    idAlbum = row[\"idAlbum\"]\n",
    "    typeAlbum = row[\"typeAlbum\"]\n",
    "    totalTracks = row[\"totalTracks\"]\n",
    "    releaseDate = row[\"releaseDate\"]\n",
    "    artist = row[\"artist\"]\n",
    "    idArtist = row[\"idArtist\"]\n",
    "\n",
    "    query_node_albums = f'CREATE (al:Album {{nameAlbum: \"{nameAlbum}\", idAlbum: \"{idAlbum}\", typeAlbum: \"{typeAlbum}\",\\\n",
    "    totalTracks: \"{int(totalTracks)}\", releaseDate: \"{(releaseDate)}\", artist: \"{artist}\", idArtist: \"{idArtist}\"}})'\n",
    "\n",
    "    # runNeo4jQuery(query_node_albums)"
   ]
  },
  {
   "cell_type": "markdown",
   "id": "39b994b4-2ab0-435f-953a-8fd2ab2ef5a0",
   "metadata": {},
   "source": [
    "### Genre"
   ]
  },
  {
   "cell_type": "code",
   "execution_count": null,
   "id": "29c1b84f-3480-467c-94cd-aa027cf13831",
   "metadata": {},
   "outputs": [],
   "source": [
    "genre_path = \"C:\\\\Users\\\\david\\\\OneDrive\\\\Documenti\\\\TTF\\\\ANNO 2022-2023\\\\Progetto Spoty NoSQL\\\\prova advance\\\\df_to_csv\\\\series_generi.csv\"\n",
    "genre_csv = import_csv(genre_path)"
   ]
  },
  {
   "cell_type": "code",
   "execution_count": null,
   "id": "94e15451-1375-438d-96eb-45e9062e7d2f",
   "metadata": {},
   "outputs": [],
   "source": [
    "for index, row in genre_csv.iterrows():\n",
    "    genres = row[\"genres\"]\n",
    "    \n",
    "    query_node_genres = f'CREATE (g:Genre {{genres: \"{genres}\"}})'\n",
    "    \n",
    "    # runNeo4jQuery(query_node_genres)"
   ]
  },
  {
   "cell_type": "markdown",
   "id": "b71d0c21-ea35-4924-85cd-1989e30a4c3b",
   "metadata": {},
   "source": [
    "## Creazione Relazioni tra i nodi"
   ]
  },
  {
   "cell_type": "markdown",
   "id": "0af6f0f3-3fa4-43e8-8e54-a566f09dd371",
   "metadata": {},
   "source": [
    "### Users -> Tracks"
   ]
  },
  {
   "cell_type": "code",
   "execution_count": null,
   "id": "7e91b8f2-21d1-42aa-8b4d-44d49b43787c",
   "metadata": {},
   "outputs": [],
   "source": [
    "users_tracks = 'MATCH (u:User), (t:Track) \\\n",
    "WHERE u.track CONTAINS t.idTracks \\\n",
    "CREATE (u)-[r:LISTENED_TO]->(t)'\n",
    "\n",
    "# runNeo4jQuery(users_tracks)"
   ]
  },
  {
   "cell_type": "markdown",
   "id": "ea7b611a-10db-4b8c-98b9-95351619c2bb",
   "metadata": {},
   "source": [
    "### Tra Tracks -> Album"
   ]
  },
  {
   "cell_type": "code",
   "execution_count": null,
   "id": "37386268-e9a9-466b-973f-d4e4bc63506e",
   "metadata": {},
   "outputs": [],
   "source": [
    "tracks_album = 'MATCH (t:Track), (al:Album) \\\n",
    "WHERE t.idAlbum = al.idAlbum \\\n",
    "MERGE (t)-[r:PART_OF]->(al)'\n",
    "\n",
    "# runNeo4jQuery(tracks_album)"
   ]
  },
  {
   "cell_type": "markdown",
   "id": "71066815-5aec-4dce-8b6e-df0321caaaeb",
   "metadata": {},
   "source": [
    "### Tracks -> Artists"
   ]
  },
  {
   "cell_type": "code",
   "execution_count": null,
   "id": "69a51723-f168-4ab8-8e7d-c937472e1aee",
   "metadata": {},
   "outputs": [],
   "source": [
    "tracks_artists = 'MATCH (t:Track), (a:Artist) \\\n",
    "WHERE t.idArtist = a.id \\\n",
    "CREATE (t)-[r:PERFORMED_BY]->(a)'\n",
    "\n",
    "# runNeo4jQuery(tracks_artists)"
   ]
  },
  {
   "cell_type": "markdown",
   "id": "5f28ad5c-f6b2-4351-afc9-e31945fa9f3f",
   "metadata": {},
   "source": [
    "### Artist -> Genres"
   ]
  },
  {
   "cell_type": "code",
   "execution_count": null,
   "id": "dcffacc5-1c5c-43a2-bf9d-693f0dc3ffdf",
   "metadata": {},
   "outputs": [],
   "source": [
    "artists_genres = 'MATCH (a:Artist), (g:Genre) \\\n",
    "WHERE a.genre CONTAINS g.genres \\\n",
    "CREATE (a)-[r:BELONGS_TO]->(g)'\n",
    "\n",
    "# runNeo4jQuery(artists_genres)"
   ]
  },
  {
   "cell_type": "markdown",
   "id": "791026a0-ff4c-439d-8b32-3184152aa083",
   "metadata": {},
   "source": [
    "### Artist -> Artist"
   ]
  },
  {
   "cell_type": "code",
   "execution_count": null,
   "id": "5d8de820-e935-4c07-8eef-a921e8902c2a",
   "metadata": {},
   "outputs": [],
   "source": [
    "artists_artist = '''MATCH (a1:Artist),(a2:Artist)\n",
    "WHERE a1 <> a2\n",
    "WITH a1, a2\n",
    "MATCH (t:Track)\n",
    "WHERE t.artist CONTAINS a1.nameArtist AND t.artist CONTAINS a2.nameArtist\n",
    "CREATE (a1)-[r:COLLABORATED_WITH]->(a2)'''\n",
    "\n",
    "# runNeo4jQuery(artists_artist)"
   ]
  },
  {
   "cell_type": "markdown",
   "id": "5fc1ba4a-078a-41e1-bf50-4b259481a8a7",
   "metadata": {},
   "source": [
    "### Album -> Artist"
   ]
  },
  {
   "cell_type": "code",
   "execution_count": null,
   "id": "007bf275-d1b5-4569-96b6-80a97a506695",
   "metadata": {},
   "outputs": [],
   "source": [
    "album_artist = 'MATCH (al:Album), (a:Artist) \\\n",
    "WHERE al.idArtist = a.id \\\n",
    "CREATE (al)-[r:BY_ARTIST]->(a)'\n",
    "\n",
    "# runNeo4jQuery(album_artist)"
   ]
  },
  {
   "cell_type": "markdown",
   "id": "eafc2a5a-d179-49f9-b74d-61d7eebc892d",
   "metadata": {},
   "source": [
    "## Query"
   ]
  },
  {
   "cell_type": "markdown",
   "id": "cad8efc1-38ed-4ef5-8489-75fec1398f95",
   "metadata": {},
   "source": [
    "### 1) Stabilire quale sia la canzone più presente nei Wrapped 2022: "
   ]
  },
  {
   "cell_type": "code",
   "execution_count": null,
   "id": "60511e71-9466-4d8c-b855-f4e9a00f5cda",
   "metadata": {},
   "outputs": [],
   "source": [
    "def most_listened_song(tx):\n",
    "    \"\"\"funzione per trovare la canzone più ascoltata\"\"\"\n",
    "    \n",
    "    result = tx.run('''MATCH (t:Track)<-[:LISTENED_TO]-(u:User) \n",
    "RETURN t.nameTrack\n",
    "LIMIT 1''')\n",
    "    return result.single()"
   ]
  },
  {
   "cell_type": "code",
   "execution_count": null,
   "id": "5db49c03-e426-4d7c-9e3b-89e231b664e5",
   "metadata": {},
   "outputs": [],
   "source": [
    "with neo4jInstance.session() as session:\n",
    "    result = session.read_transaction(most_listened_song)\n",
    "    print(f\"Canzone più ascoltata: {result['t.nameTrack']}\")"
   ]
  },
  {
   "cell_type": "markdown",
   "id": "2b71e450-a958-4be6-b283-b307a3c24846",
   "metadata": {
    "tags": []
   },
   "source": [
    "### 2) Stabilire quali siano le canzoni in comune tra gli utenti, quanti ascoltatori hanno avuto e quali sono:"
   ]
  },
  {
   "cell_type": "code",
   "execution_count": null,
   "id": "184b11a1-bcba-46ab-98c2-8e65256e176a",
   "metadata": {
    "tags": []
   },
   "outputs": [],
   "source": [
    "with neo4jInstance.session() as session:\n",
    "    result = session.run(\"MATCH (u1:User)-[:LISTENED_TO]->(t:Track)<-[:LISTENED_TO]-(u2:User) \\\n",
    "                    WHERE u1 <> u2 \\\n",
    "                    RETURN t.nameTrack, COUNT(DISTINCT u1) as numUsers, COLLECT(DISTINCT u1.nameUser) as commonUsers \\\n",
    "                    ORDER BY numUsers DESC, SIZE(commonUsers) DESC\")\n",
    "    \n",
    "    for record in result:\n",
    "        print(f'''Track: {record[\"t.nameTrack\"]} \n",
    "            num: {record[\"numUsers\"]} \n",
    "            User: {record[\"commonUsers\"]}\\n''')"
   ]
  },
  {
   "cell_type": "markdown",
   "id": "d9a3a3e6-a972-48fe-99ea-e57b2c8a448f",
   "metadata": {},
   "source": [
    "### 3) Stabilire quale sia l'artista più presente nei Wrapped 2022:"
   ]
  },
  {
   "cell_type": "code",
   "execution_count": null,
   "id": "5960e7e6-df79-4c88-8de4-b0fe2ae053dc",
   "metadata": {},
   "outputs": [],
   "source": [
    "def most_listened_artist(tx):\n",
    "    \"\"\"funzione per trovare l'artista più ascoltato\"\"\"\n",
    "    \n",
    "    result = tx.run('''MATCH (u:User)-[:LISTENED_TO]->(t:Track)-[:PERFORMED_BY]->(a:Artist)\n",
    "WITH a.nameArtist as artist, count(a) as count \n",
    "ORDER BY count DESC \n",
    "LIMIT 1\n",
    "RETURN artist''')\n",
    "    return result.single()"
   ]
  },
  {
   "cell_type": "code",
   "execution_count": null,
   "id": "39c3e878-1e2d-4859-bc92-9d0875243e61",
   "metadata": {},
   "outputs": [],
   "source": [
    "with neo4jInstance.session() as session:\n",
    "    result = session.read_transaction(most_listened_artist)\n",
    "    print(\"Artista più ascoltato\", result[\"artist\"])"
   ]
  },
  {
   "cell_type": "markdown",
   "id": "3129a910-aa85-48cd-a0b7-7392dd353f40",
   "metadata": {},
   "source": [
    "### 4) Per ogni utente, stabilire quale sia l'artista più presente nel proprio Wrapped:"
   ]
  },
  {
   "cell_type": "code",
   "execution_count": null,
   "id": "69e42a01-d179-42ca-97d2-ad8d35bfcde7",
   "metadata": {},
   "outputs": [],
   "source": [
    "def get_all_users(tx):\n",
    "    \"\"\"funzione per ottenere tutti gli utenti\"\"\"\n",
    "    \n",
    "    result = tx.run(\"MATCH (u:User) RETURN u.nameUser as nameUser\")\n",
    "    return [record[\"nameUser\"] for record in result]"
   ]
  },
  {
   "cell_type": "code",
   "execution_count": null,
   "id": "13032b3a-a4ad-4ec5-b8e0-13edfacb5e4e",
   "metadata": {},
   "outputs": [],
   "source": [
    "def most_listened_artist(tx, nameUser):\n",
    "    \"\"\"funzione per trovare il genere più ascoltato da un utente\"\"\"\n",
    "    \n",
    "    result = tx.run(\"MATCH (u:User)-[:LISTENED_TO]->(t:Track)-[:PERFORMED_BY]->(a:Artist)-[:BELONGS_TO]->(g:Genre) \\\n",
    "                    WHERE u.nameUser = $nameUser \\\n",
    "                    RETURN a.nameArtist as artist, count(a) as count \\\n",
    "                    ORDER BY count DESC \\\n",
    "                    LIMIT 1\", nameUser=nameUser)\n",
    "    return result.single()"
   ]
  },
  {
   "cell_type": "code",
   "execution_count": null,
   "id": "9c0a09cd-d422-4406-82b9-693b7da4cd9a",
   "metadata": {},
   "outputs": [],
   "source": [
    "with neo4jInstance.session() as session:\n",
    "    # ottieni tutti gli utenti\n",
    "    users = session.read_transaction(get_all_users)\n",
    "    \n",
    "    # per ogni utente, trova l'artista più ascoltato\n",
    "    for user in users:\n",
    "        result = session.read_transaction(most_listened_artist, user)\n",
    "        print(f'''Utente: {user} \n",
    "        Artista più ascoltato: {result[\"artist\"]}\\n''')"
   ]
  },
  {
   "cell_type": "markdown",
   "id": "9d273bf1-cb09-49b4-a0d5-a8c601e1dca4",
   "metadata": {},
   "source": [
    "### 5) Stabilire per ogni artista quante collaborazioni ha avuto e con quali artisti all’interno delle tracce del Wrapped:"
   ]
  },
  {
   "cell_type": "code",
   "execution_count": null,
   "id": "f3b78fbc-1e65-48a8-9e29-a10abf6575df",
   "metadata": {
    "tags": []
   },
   "outputs": [],
   "source": [
    "with neo4jInstance.session() as session:\n",
    "    result = session.run('''MATCH (a1:Artist)-[r:COLLABORATED_WITH]->(a2:Artist)\n",
    "WITH a1.nameArtist as name, \n",
    "COLLECT(DISTINCT a2.nameArtist) as collaborators, \n",
    "SIZE(COLLECT(DISTINCT a2.nameArtist)) as collaborations\n",
    "RETURN name, collaborations, collaborators\n",
    "ORDER BY collaborations DESC''')\n",
    "\n",
    "    for record in result:\n",
    "        print(f'''Artist: {record[\"name\"]}\n",
    "    N.collaborations: {record[\"collaborations\"]}\n",
    "    Collaborators: {record[\"collaborators\"]}\\n''')"
   ]
  },
  {
   "cell_type": "markdown",
   "id": "bee4e030-ff8e-476a-b77a-4bb36a60bbaf",
   "metadata": {},
   "source": [
    "### 6) Stabilire quale sia l'album che ha più tracce nei Wrapped:"
   ]
  },
  {
   "cell_type": "code",
   "execution_count": null,
   "id": "a509ae0e-ae36-482e-9a49-cee900693ccd",
   "metadata": {},
   "outputs": [],
   "source": [
    "with neo4jInstance.session() as session:\n",
    "    result = session.run('''MATCH (al:Album)<-[:PART_OF]-(t:Track)<-[:LISTENED_TO]-(u:User)\n",
    "WITH al.nameAlbum AS album, COUNT(u) as numListeners\n",
    "ORDER BY numListeners DESC\n",
    "LIMIT 1\n",
    "RETURN album''')\n",
    "    for record in result:\n",
    "        print(f'''Album più ascoltato: {record[\"album\"]}\\n''')"
   ]
  },
  {
   "cell_type": "markdown",
   "id": "2a6839dd-e764-4421-ad06-71337cc18c6d",
   "metadata": {},
   "source": [
    "### 7) Stabilire quale sia l'album che ha più tracce per ogni Wrapped:"
   ]
  },
  {
   "cell_type": "code",
   "execution_count": null,
   "id": "40a2d513-80cb-4119-95f8-2444d9d38b4d",
   "metadata": {},
   "outputs": [],
   "source": [
    "with neo4jInstance.session() as session:\n",
    "    result = session.run('''MATCH (u:User)-[:LISTENED_TO]->(t:Track)-[:PART_OF]->(al:Album) \\\n",
    "                    WITH u, al, COUNT(t) AS numTracks \\\n",
    "                    ORDER BY numTracks DESC \\\n",
    "                    WITH u, COLLECT(al)[0] AS al, MAX(numTracks) as maxTracks \\\n",
    "                    RETURN DISTINCT u.nameUser, al.nameAlbum''')\n",
    "    for record in result:\n",
    "        print(f'''User: {record[\"u.nameUser\"]}: \n",
    "        Album più ascoltato : {record[\"al.nameAlbum\"]}\\n''')"
   ]
  },
  {
   "cell_type": "markdown",
   "id": "cf8c87dd-9d0c-4c1b-9047-d4c47884f1e7",
   "metadata": {},
   "source": [
    "### 8) Per ogni utente, stabilire quale sia l'album che ha più tracce all’interno del proprio Wrapped:"
   ]
  },
  {
   "cell_type": "code",
   "execution_count": null,
   "id": "4be6bc81-f063-42dc-9014-c868ef2c4a5a",
   "metadata": {},
   "outputs": [],
   "source": [
    "def most_listened_genre(tx):\n",
    "    \"\"\"funzione per trovare il genere più ascoltato\"\"\"\n",
    "    \n",
    "    result = tx.run('''MATCH (g:Genre)<-[:BELONGS_TO]-(a:Artist)<-[:PERFORMED_BY]-(t:Track)<-[:LISTENED_TO]-(u:User)\n",
    "WITH g.genres AS genre, COUNT(u) as numListeners\n",
    "ORDER BY numListeners DESC\n",
    "LIMIT 1\n",
    "RETURN genre''')\n",
    "    return result.single()"
   ]
  },
  {
   "cell_type": "code",
   "execution_count": null,
   "id": "7ad2959c-19fe-4fec-9631-642e37c76120",
   "metadata": {},
   "outputs": [],
   "source": [
    "with neo4jInstance.session() as session:\n",
    "    result = session.read_transaction(most_listened_genre)\n",
    "    print(\"Genere più ascoltato:\", result[\"genre\"])"
   ]
  },
  {
   "cell_type": "markdown",
   "id": "9343c1c0-b551-4f5f-9465-3d3c3b0198c4",
   "metadata": {},
   "source": [
    "### 9) Per ogni utente, stabilire quale sia il genere più ascoltato all’interno del proprio Wrapped:"
   ]
  },
  {
   "cell_type": "code",
   "execution_count": null,
   "id": "09864db0-58a8-4dbf-aca2-a35a06ce8bbb",
   "metadata": {},
   "outputs": [],
   "source": [
    "def most_listened_genre(tx, nameUser):\n",
    "    \"\"\"funzione per trovare il genere più ascoltato da un utente\"\"\"\n",
    "    \n",
    "    result = tx.run(\"MATCH (u:User)-[:LISTENED_TO]->(t:Track)-[:PERFORMED_BY]->(a:Artist)-[:BELONGS_TO]->(g:Genre) \\\n",
    "                    WHERE u.nameUser = $nameUser \\\n",
    "                    RETURN g.genres as genre, count(g) as count \\\n",
    "                    ORDER BY count DESC \\\n",
    "                    LIMIT 1\", nameUser=nameUser)\n",
    "    return result.single()"
   ]
  },
  {
   "cell_type": "code",
   "execution_count": null,
   "id": "b41a0c89-01a9-4832-ac82-456d4639a113",
   "metadata": {},
   "outputs": [],
   "source": [
    "with neo4jInstance.session() as session:\n",
    "    # ottieni tutti gli utenti\n",
    "    users = session.read_transaction(get_all_users)\n",
    "    \n",
    "    # per ogni utente, trova il genere più ascoltato\n",
    "    for user in users:\n",
    "        result = session.read_transaction(most_listened_genre, user)\n",
    "        print(f'''Utente: {user} \n",
    "        Genere più ascoltato: {result[\"genre\"]}\\n''')"
   ]
  },
  {
   "cell_type": "markdown",
   "id": "4ccc2b1b-777a-4608-aa73-593f289fc369",
   "metadata": {},
   "source": [
    "### 10) Trovare quali siano gli utenti più simili per quanto riguarda le tracce del Wrapped:"
   ]
  },
  {
   "cell_type": "code",
   "execution_count": null,
   "id": "75be13c7-5d75-41d0-a014-ef6dddaf653a",
   "metadata": {},
   "outputs": [],
   "source": [
    "listo = np.arange(len(tracks_list[0]))"
   ]
  },
  {
   "cell_type": "code",
   "execution_count": null,
   "id": "387dfb52-05d2-4056-bbb2-ddac70dd53b8",
   "metadata": {},
   "outputs": [],
   "source": [
    "martol = []\n",
    "chiara = []\n",
    "for i in listo:\n",
    "    martol.append(tracks_list[6][i]['track']['id'])\n",
    "    chiara.append(tracks_list[5][i]['track']['id'])"
   ]
  },
  {
   "cell_type": "code",
   "execution_count": null,
   "id": "81f71565-f203-443e-98d2-5b1859cabaff",
   "metadata": {},
   "outputs": [],
   "source": [
    "c = pd.Series(chiara)\n",
    "m = pd.Series(martol)\n",
    "\n",
    "\n",
    "m=pd.DataFrame(m, columns=['d'])\n",
    "c=pd.DataFrame(c, columns=['d'])"
   ]
  },
  {
   "cell_type": "code",
   "execution_count": null,
   "id": "d28a9f6f-edd4-469a-bad5-719d8f67bca8",
   "metadata": {},
   "outputs": [],
   "source": [
    "len(pd.merge(c, m, \"inner\"))"
   ]
  },
  {
   "cell_type": "code",
   "execution_count": null,
   "id": "ceb03c87-b581-4126-8ebe-58710a462b72",
   "metadata": {
    "tags": []
   },
   "outputs": [],
   "source": [
    "with neo4jInstance.session() as session:\n",
    "    result = session.run('''MATCH (u1:User)-[:LISTENED_TO]->(t:Track)<-[:LISTENED_TO]-(u2:User)\n",
    "WHERE u1.nameUser <> u2.nameUser AND u1.nameUser < u2.nameUser\n",
    "WITH DISTINCT u1.nameUser AS user1, u2.nameUser AS user2, collect(DISTINCT t.nameTrack) AS common_tracks\n",
    "RETURN user1, user2, common_tracks, size(common_tracks) AS n_tracks\n",
    "ORDER BY n_tracks DESC\n",
    "''')\n",
    "    \n",
    "    for record in result:\n",
    "        print(f'''User1: {record[\"user1\"]} \n",
    "User2: {record[\"user2\"]} \n",
    "    {record[\"n_tracks\"]} numCommonTracks\n",
    "    tracks: {record[\"common_tracks\"]}\\n''')"
   ]
  },
  {
   "cell_type": "markdown",
   "id": "ddf25d5b-dd0e-41af-bb22-527ad411cfe9",
   "metadata": {},
   "source": [
    "### 11) Stabilire quale siano gli utenti che hanno più canzoni in comune con tutti gli altri utenti:"
   ]
  },
  {
   "cell_type": "code",
   "execution_count": null,
   "id": "8a80dad8-d0c9-4056-8046-20214436e73e",
   "metadata": {},
   "outputs": [],
   "source": [
    "with neo4jInstance.session() as session:\n",
    "    result = session.run('''MATCH (u1:User)-[:LISTENED_TO]->(t:Track)<-[:LISTENED_TO]-(u2:User)\n",
    "WITH u1, size(collect(DISTINCT t.nameTrack)) AS common_track\n",
    "ORDER BY common_track DESC\n",
    "RETURN u1.nameUser as user, common_track''')\n",
    "\n",
    "    for record in result:\n",
    "            print(f'''User: {record[\"user\"]} \n",
    "        {record[\"common_track\"]} numCommonTracks with other users\\n''')"
   ]
  },
  {
   "cell_type": "markdown",
   "id": "964ece04-9acc-4b2d-b3db-58d99de470e5",
   "metadata": {},
   "source": [
    "### 12) Trovare il percorso più vicino tra gli utenti "
   ]
  },
  {
   "cell_type": "code",
   "execution_count": null,
   "id": "04a5c266-795d-4ec8-9c64-c29ab91307d1",
   "metadata": {
    "tags": []
   },
   "outputs": [],
   "source": [
    "with neo4jInstance.session() as session:\n",
    "    result = session.run('''MATCH p=shortestPath((u1:User)-[*..]-(u2:User))\n",
    "WHERE u1 <> u2 and u1>u2\n",
    "RETURN u1.nameUser AS user1, u2.nameUser AS user2, length(p) as distance\n",
    "ORDER BY distance DESC''')\n",
    "    \n",
    "    for record in result:\n",
    "        print(f'''User1: {record[\"user1\"]} \n",
    "User2: {record[\"user2\"]} \n",
    "    {record[\"distance\"]} steps\\n''')"
   ]
  }
 ],
 "metadata": {
  "kernelspec": {
   "display_name": "Python 3 (ipykernel)",
   "language": "python",
   "name": "python3"
  },
  "language_info": {
   "codemirror_mode": {
    "name": "ipython",
    "version": 3
   },
   "file_extension": ".py",
   "mimetype": "text/x-python",
   "name": "python",
   "nbconvert_exporter": "python",
   "pygments_lexer": "ipython3",
   "version": "3.9.7"
  }
 },
 "nbformat": 4,
 "nbformat_minor": 5
}
